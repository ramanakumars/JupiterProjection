{
 "cells": [
  {
   "cell_type": "markdown",
   "metadata": {},
   "source": [
    "# Projecting images from a PNG or JPEG file\n",
    "\n",
    "First import the modules\n",
    "\n",
    "This notebook requires the ipywidgets for manual image fitting. Please see the documentation [here](https://ipywidgets.readthedocs.io/en/stable/user_install.html) for instructions to install it. You will also need `numpy`, `scipy`, `matplotlib`, `spiceypy` and `astropy`, which can be installed using the `pip` tool. "
   ]
  },
  {
   "cell_type": "code",
   "execution_count": 1,
   "metadata": {},
   "outputs": [],
   "source": [
    "%matplotlib widget\n",
    "from projector import Projector"
   ]
  },
  {
   "cell_type": "markdown",
   "metadata": {},
   "source": [
    "Then, we are going to initialize the object with the filepath, date, path to NAIF SPICE kernels and the target name. The input is defined as follows:\n",
    "\n",
    "### Date\n",
    "The date must be in UTC and ISO format (yyyy-mm-dd hh:mm:ss or yyyy-mm-ddThh:mm:ss). \n",
    "\n",
    "### Kernel path\n",
    "This is the path to the generic_kernels folder provided by NAIF (see description [here](https://naif.jpl.nasa.gov/naif/data_generic.html)). You can dowload this data to any folder by running the following command in a UNIX shell:\n",
    "\n",
    "```bash\n",
    "wget -m -nH --cut-dirs=2 -nv ftp://naif.jpl.nasa.gov/pub/naif/generic_kernels/\n",
    "```\n",
    "This will create the `generic_kernels` folder in the current directory, which is the location that `kernel_path` should point to.\n",
    "\n",
    "###  Target\n",
    "The name of the target. Use all-caps (e.g. 'JUPITER')"
   ]
  },
  {
   "cell_type": "code",
   "execution_count": 3,
   "metadata": {},
   "outputs": [],
   "source": [
    "KERNEL_DIR = '/home/local/Isis/data/generic_kernels/'\n",
    "\n",
    "date = '2019-02-02 10:07'\n",
    "proj = Projector.from_img('2019-02-02-1007_1-RGBdp.jpg', date, KERNEL_DIR, target='JUPITER')"
   ]
  },
  {
   "cell_type": "markdown",
   "metadata": {},
   "source": [
    "## Calibrating the camera plate\n",
    "There are two ways to do this: \n",
    "\n",
    "* Automatically determining the plate scale and rotation from the image. This works well for Jupiter, but is not recommended for Saturn/Mars. Use the `fit_img_ellipse` method for this route.\n",
    "\n",
    "* Manually aligning the observed limb to match the image. In this case, use the `fit_img_manual` method."
   ]
  },
  {
   "cell_type": "markdown",
   "metadata": {},
   "source": [
    "### Automated fitting\n",
    "Here, we call the `fit_img_ellipse` method, which automatically adjusts the plate scale and rotation to match the shape of the observed elliptic limb of the object. The input parameters are:\n",
    "\n",
    "* gamma : the contrast enhancment factor to determine the location of the limb. Adjusts the pixel value by the power of `gamma`. Default value of 0.1 works quite well for Jupiter.\n",
    "\n",
    "* threshold : The pixel value threshold (from 0 to 1) to detect the limb. With the default value of `gamma`, the planet usually has a pixel value of greater than 1, so anything between 0.1-0.9 works well. Adjust if the image is too noisy. \n",
    "\n",
    "* NorthUp : A boolean flag to specify that the north is up in the image (default `True`). Toggle to `False` if the image is aligned south pole up.\n",
    "\n",
    "On completion, you will see the image with a red line highlighting the observed limb, a while line showing the fitted limb. Ideally these should overlap with a good fit. Two blue lines will show the equator and meridian at the sub-observer longitude. A green circle shows the north pole and green cross shows the south pole. Two extra green lines are plotted at 24$^\\circ$ N and 22$^\\circ$ S, as they usually correspond to prominent Belt/Zone boundaries on Jupiter."
   ]
  },
  {
   "cell_type": "code",
   "execution_count": 4,
   "metadata": {
    "scrolled": false
   },
   "outputs": [
    {
     "name": "stderr",
     "output_type": "stream",
     "text": [
      "/usr/local/lib/python3.6/dist-packages/matplotlib/__init__.py:941: MatplotlibDeprecationWarning: nbagg.transparent is deprecated and ignored. Use figure.facecolor instead.\n",
      "  mplDeprecation)\n"
     ]
    },
    {
     "data": {
      "application/vnd.jupyter.widget-view+json": {
       "model_id": "38ab3dfc3e034b6e907a99c44421514e",
       "version_major": 2,
       "version_minor": 0
      },
      "text/plain": [
       "Canvas(toolbar=Toolbar(toolitems=[('Home', 'Reset original view', 'home', 'home'), ('Back', 'Back to  previous…"
      ]
     },
     "metadata": {},
     "output_type": "display_data"
    }
   ],
   "source": [
    "proj.fit_img_ellipse(NorthUp=True)"
   ]
  },
  {
   "cell_type": "markdown",
   "metadata": {},
   "source": [
    "### Manual image fitting\n",
    "For other planets, or if the fit does not produce the required accuracy, you can tweak the fit manually. Here we call the `fit_img_manual` function, which provides an image of the observed and fit limb, and four parameters for calibrating the plate:\n",
    "\n",
    "* `scale` : this is the plate scale in arcsec/pixel. This fit assumes that the plate scale in both direction is constant. \n",
    "\n",
    "* `alpha` : the rotation of the J2000 north from the camera +y axis (which is the bottom of the image)\n",
    "\n",
    "* `x0` : x-coordinate of the target center in pixels\n",
    "\n",
    "* `y0` : y-coordinate of the target center in pixels\n",
    "\n",
    "The `gamma` slider is to adjust the image contrast to see the limb better.\n",
    "\n",
    "Adjust the sliders until the image limb matches the fitted limb. As before, the meridian is plotted in blue and north pole is the white circle and the south pole is the white cross. \n",
    "\n",
    "The `fit_img_manual` function takes four optional arguments, which are the limits for the slider for `scale`, `alpha`, `x0` and `y0`. These are useful for fine adjustment of the calibration parameters. Once you have a good guess for any, you can input these as tuples. For e.g.:\n",
    "```python\n",
    "proj.fit_img_manual(scalelim=(10., 12.)) ## limit the slider between 10-12 \"/pix\n",
    "```\n",
    "The code will preserve the value of the slider, so you can rerun the cell iteratively as you constrain the limits. "
   ]
  },
  {
   "cell_type": "code",
   "execution_count": 5,
   "metadata": {},
   "outputs": [
    {
     "data": {
      "application/vnd.jupyter.widget-view+json": {
       "model_id": "81cfa0dc805f468eab8b8f9c60fe6bba",
       "version_major": 2,
       "version_minor": 0
      },
      "text/plain": [
       "Canvas(toolbar=Toolbar(toolitems=[('Home', 'Reset original view', 'home', 'home'), ('Back', 'Back to  previous…"
      ]
     },
     "metadata": {},
     "output_type": "display_data"
    },
    {
     "data": {
      "application/vnd.jupyter.widget-view+json": {
       "model_id": "0549c54580834dd78142ea9efd12b15d",
       "version_major": 2,
       "version_minor": 0
      },
      "text/plain": [
       "interactive(children=(FloatSlider(value=1.0, description='gamma', max=1.0, min=0.1, step=0.01), Output()), _do…"
      ]
     },
     "metadata": {},
     "output_type": "display_data"
    },
    {
     "data": {
      "application/vnd.jupyter.widget-view+json": {
       "model_id": "7b9e0454478d40e5ac136f2de469ade2",
       "version_major": 2,
       "version_minor": 0
      },
      "text/plain": [
       "interactive(children=(FloatSlider(value=18.711655449170152, description='scale', max=25.0, min=5.0, step=0.01)…"
      ]
     },
     "metadata": {},
     "output_type": "display_data"
    }
   ],
   "source": [
    "proj.fit_img_manual()"
   ]
  },
  {
   "cell_type": "markdown",
   "metadata": {},
   "source": [
    "## Projecting to a latitude/longitude map\n",
    "\n",
    "Once the plate is calibrated, we can determine the coordinate values of each pixel. This is done using the `project` method. This method takes two optional parameters:\n",
    "\n",
    "* `get_illum` : boolean value to also get illumination values (incidence, emission and phase angles, and an I/F correction using the Lambertian model. The default value is `True` and these parameters can be retrieved from the `proj` object via `proj.incidence`, `proj.emission`, `proj.phase` and `proj.solar_corr` respectively. Turn off to speed up the fit. Multiply the raw image by `solar_corr` to get the corrected image. \n",
    "\n",
    "* `use_full_image` : boolean value to check the entire image. If turned off (default is `False`), then only the pixels $1.2\\times$ the target radii are determined, in order to speed up computation. Toggle on if the bounding box is incorrect. \n",
    "\n",
    "The method will print a progress bar as it scans over the y-coordinate and produces a longitude and latitude map along with a grid over the image. If `get_illum` was enabled, this will plot the corrected image. "
   ]
  },
  {
   "cell_type": "code",
   "execution_count": 6,
   "metadata": {},
   "outputs": [
    {
     "name": "stdout",
     "output_type": "stream",
     "text": [
      " 800/810"
     ]
    },
    {
     "data": {
      "application/vnd.jupyter.widget-view+json": {
       "model_id": "17217834e37649ec9310600dd5c9df8a",
       "version_major": 2,
       "version_minor": 0
      },
      "text/plain": [
       "Canvas(toolbar=Toolbar(toolitems=[('Home', 'Reset original view', 'home', 'home'), ('Back', 'Back to  previous…"
      ]
     },
     "metadata": {},
     "output_type": "display_data"
    },
    {
     "name": "stderr",
     "output_type": "stream",
     "text": [
      "Clipping input data to the valid range for imshow with RGB data ([0..1] for floats or [0..255] for integers).\n"
     ]
    }
   ],
   "source": [
    "proj.project()"
   ]
  },
  {
   "cell_type": "markdown",
   "metadata": {},
   "source": [
    "## Saving the data\n",
    "\n",
    "**Coming soon....**\n",
    "\n",
    "The latitude and longitude values are saved to the `proj.lat` and `proj.lon` respectively. These can now be saved in any format. "
   ]
  }
 ],
 "metadata": {
  "kernelspec": {
   "display_name": "Python 3",
   "language": "python",
   "name": "python3"
  },
  "language_info": {
   "codemirror_mode": {
    "name": "ipython",
    "version": 3
   },
   "file_extension": ".py",
   "mimetype": "text/x-python",
   "name": "python",
   "nbconvert_exporter": "python",
   "pygments_lexer": "ipython3",
   "version": "3.6.9"
  },
  "widgets": {
   "application/vnd.jupyter.widget-state+json": {
    "state": {
     "00c5eefc4d1e47a4862775c926bb9714": {
      "model_module": "@jupyter-widgets/controls",
      "model_module_version": "1.5.0",
      "model_name": "FloatSliderModel",
      "state": {
       "description": "scale",
       "layout": "IPY_MODEL_10eb4e36e9ea4208b797272bbce87486",
       "max": 25,
       "min": 5,
       "step": 0.01,
       "style": "IPY_MODEL_840c000d669b4988aa4d0d2f8e2174d2",
       "value": 18.711655449170152
      }
     },
     "04c93a10937e4a8892f0207156c02f49": {
      "model_module": "@jupyter-widgets/controls",
      "model_module_version": "1.5.0",
      "model_name": "SliderStyleModel",
      "state": {
       "description_width": ""
      }
     },
     "0524b50511cb48159ddb119c8a185d2f": {
      "model_module": "@jupyter-widgets/base",
      "model_module_version": "1.2.0",
      "model_name": "LayoutModel",
      "state": {}
     },
     "0549c54580834dd78142ea9efd12b15d": {
      "model_module": "@jupyter-widgets/controls",
      "model_module_version": "1.5.0",
      "model_name": "VBoxModel",
      "state": {
       "_dom_classes": [
        "widget-interact"
       ],
       "children": [
        "IPY_MODEL_065e2a1e92dd4bd9a9ceddce004292be",
        "IPY_MODEL_74b9355b28134b5d888037e746e90df2"
       ],
       "layout": "IPY_MODEL_633e6c156d114aeb9ddaaa779228387f"
      }
     },
     "058e4a283d844a928e67e2a6bf32813c": {
      "model_module": "@jupyter-widgets/base",
      "model_module_version": "1.2.0",
      "model_name": "LayoutModel",
      "state": {}
     },
     "0654db9e71764190afa8d7d7ce4cd776": {
      "model_module": "@jupyter-widgets/base",
      "model_module_version": "1.2.0",
      "model_name": "LayoutModel",
      "state": {}
     },
     "065e2a1e92dd4bd9a9ceddce004292be": {
      "model_module": "@jupyter-widgets/controls",
      "model_module_version": "1.5.0",
      "model_name": "FloatSliderModel",
      "state": {
       "description": "gamma",
       "layout": "IPY_MODEL_582e751f001243a9903d16357e2e4563",
       "max": 1,
       "min": 0.1,
       "step": 0.01,
       "style": "IPY_MODEL_4aa9a0be56c84bd3be4a038e31dffebb",
       "value": 1
      }
     },
     "06dc070246864cfa995cd0180eaa8e1f": {
      "model_module": "@jupyter-widgets/base",
      "model_module_version": "1.2.0",
      "model_name": "LayoutModel",
      "state": {}
     },
     "06ec5ed083684405a648b08a2c95d40a": {
      "model_module": "@jupyter-widgets/output",
      "model_module_version": "1.0.0",
      "model_name": "OutputModel",
      "state": {
       "layout": "IPY_MODEL_51dfd62c86324b569d574b315c1011cb"
      }
     },
     "08ee928cba794fce820e02c4e14f0051": {
      "model_module": "@jupyter-widgets/controls",
      "model_module_version": "1.5.0",
      "model_name": "FloatSliderModel",
      "state": {
       "description": "x0",
       "layout": "IPY_MODEL_f94af68a543645a4bd10b1a6447822fc",
       "max": 1040,
       "step": 0.01,
       "style": "IPY_MODEL_04c93a10937e4a8892f0207156c02f49",
       "value": 528.380291398653
      }
     },
     "093b8d21d41949cd81154d803a208f05": {
      "model_module": "@jupyter-widgets/output",
      "model_module_version": "1.0.0",
      "model_name": "OutputModel",
      "state": {
       "layout": "IPY_MODEL_06dc070246864cfa995cd0180eaa8e1f",
       "outputs": [
        {
         "name": "stdout",
         "output_type": "stream",
         "text": "[21164694.52301279 -3669154.108794  ]\n"
        }
       ]
      }
     },
     "094c3eb1d4dd408680dead88a2001d0b": {
      "model_module": "@jupyter-widgets/base",
      "model_module_version": "1.2.0",
      "model_name": "LayoutModel",
      "state": {}
     },
     "09c9d4ed82434c1fa9ab88f03973fafc": {
      "model_module": "@jupyter-widgets/controls",
      "model_module_version": "1.5.0",
      "model_name": "FloatSliderModel",
      "state": {
       "description": "alpha",
       "layout": "IPY_MODEL_542190b0a25d4819b656fa75280961f0",
       "max": 360,
       "step": 0.01,
       "style": "IPY_MODEL_f493c86190ab439792799db1d5b7bd6f",
       "value": 170.6650227707358
      }
     },
     "0a270583faf84eb782b979149602bdc5": {
      "model_module": "@jupyter-widgets/controls",
      "model_module_version": "1.5.0",
      "model_name": "SliderStyleModel",
      "state": {
       "description_width": ""
      }
     },
     "0a504efec9e04f57ae6804c5e309828c": {
      "model_module": "jupyter-matplotlib",
      "model_module_version": "^0.8.2",
      "model_name": "ToolbarModel",
      "state": {
       "layout": "IPY_MODEL_bb9dd4133e22495e9b924f94432a2556",
       "toolitems": [
        [
         "Home",
         "Reset original view",
         "home",
         "home"
        ],
        [
         "Back",
         "Back to  previous view",
         "arrow-left",
         "back"
        ],
        [
         "Forward",
         "Forward to next view",
         "arrow-right",
         "forward"
        ],
        [
         "Pan",
         "Pan axes with left mouse, zoom with right",
         "arrows",
         "pan"
        ],
        [
         "Zoom",
         "Zoom to rectangle",
         "square-o",
         "zoom"
        ],
        [
         "Download",
         "Download plot",
         "floppy-o",
         "save_figure"
        ]
       ]
      }
     },
     "0ab0ae72d82b433988d13ee9655db6e4": {
      "model_module": "@jupyter-widgets/output",
      "model_module_version": "1.0.0",
      "model_name": "OutputModel",
      "state": {
       "layout": "IPY_MODEL_2da53afb084b444f8b830da8649a9b89"
      }
     },
     "0b2b387574c645bfafa766b1344611e7": {
      "model_module": "@jupyter-widgets/base",
      "model_module_version": "1.2.0",
      "model_name": "LayoutModel",
      "state": {}
     },
     "0b792fc8dc654d4490c8f05c3c50f9ba": {
      "model_module": "@jupyter-widgets/controls",
      "model_module_version": "1.5.0",
      "model_name": "FloatSliderModel",
      "state": {
       "description": "gamma",
       "layout": "IPY_MODEL_5bd37414b24246339ab1864641a87c7c",
       "max": 1,
       "min": 0.1,
       "step": 0.01,
       "style": "IPY_MODEL_8fb06f77bd834ff9971bbf90ca263ddd",
       "value": 1
      }
     },
     "0c41c31079be492ca3a3534e1b5af824": {
      "model_module": "@jupyter-widgets/controls",
      "model_module_version": "1.5.0",
      "model_name": "FloatSliderModel",
      "state": {
       "description": "alpha",
       "layout": "IPY_MODEL_ecda862014004df1879b6c7cd68411e2",
       "max": 360,
       "step": 0.01,
       "style": "IPY_MODEL_a2c95931fa134cac9724665a78e95e23"
      }
     },
     "0d155bfe6d74438fb2f59135e857489c": {
      "model_module": "@jupyter-widgets/controls",
      "model_module_version": "1.5.0",
      "model_name": "SliderStyleModel",
      "state": {
       "description_width": ""
      }
     },
     "0dee1d6772e84165b5b07f55d653a865": {
      "model_module": "@jupyter-widgets/base",
      "model_module_version": "1.2.0",
      "model_name": "LayoutModel",
      "state": {}
     },
     "0ec44d1629f04dc29e27061a205b6141": {
      "model_module": "@jupyter-widgets/base",
      "model_module_version": "1.2.0",
      "model_name": "LayoutModel",
      "state": {}
     },
     "0ef19b483fc943f88df2b9e1c6bd5333": {
      "model_module": "@jupyter-widgets/base",
      "model_module_version": "1.2.0",
      "model_name": "LayoutModel",
      "state": {}
     },
     "0fa17c35fb2c4a9aa5ecc6d6c678c7f5": {
      "model_module": "@jupyter-widgets/base",
      "model_module_version": "1.2.0",
      "model_name": "LayoutModel",
      "state": {}
     },
     "10036660dac14e8f8319e0a72baacb0c": {
      "model_module": "@jupyter-widgets/base",
      "model_module_version": "1.2.0",
      "model_name": "LayoutModel",
      "state": {}
     },
     "10eb4e36e9ea4208b797272bbce87486": {
      "model_module": "@jupyter-widgets/base",
      "model_module_version": "1.2.0",
      "model_name": "LayoutModel",
      "state": {}
     },
     "1165680e5d3a423eb327cd3b1ab5d1a1": {
      "model_module": "@jupyter-widgets/controls",
      "model_module_version": "1.5.0",
      "model_name": "SliderStyleModel",
      "state": {
       "description_width": ""
      }
     },
     "117970e05656415cbd202964d0be5d2b": {
      "model_module": "@jupyter-widgets/base",
      "model_module_version": "1.2.0",
      "model_name": "LayoutModel",
      "state": {}
     },
     "118078de8b784ca79e4d48445a8916f6": {
      "model_module": "@jupyter-widgets/base",
      "model_module_version": "1.2.0",
      "model_name": "LayoutModel",
      "state": {}
     },
     "121dc9af7b684308a5a516317bae55c8": {
      "model_module": "@jupyter-widgets/controls",
      "model_module_version": "1.5.0",
      "model_name": "SliderStyleModel",
      "state": {
       "description_width": ""
      }
     },
     "12ec70ecda454503982327b6f6a7df85": {
      "model_module": "@jupyter-widgets/controls",
      "model_module_version": "1.5.0",
      "model_name": "SliderStyleModel",
      "state": {
       "description_width": ""
      }
     },
     "135480f465bd4c1b8384694830e96118": {
      "model_module": "@jupyter-widgets/controls",
      "model_module_version": "1.5.0",
      "model_name": "FloatSliderModel",
      "state": {
       "description": "gamma",
       "layout": "IPY_MODEL_3a6d87783f4447baaabd5bb7e04e7c0f",
       "max": 1,
       "min": 0.1,
       "step": 0.01,
       "style": "IPY_MODEL_89360754428245e3a05cbae0997519e7",
       "value": 1
      }
     },
     "13aa6bc8276846cd876fd90737aca670": {
      "model_module": "@jupyter-widgets/base",
      "model_module_version": "1.2.0",
      "model_name": "LayoutModel",
      "state": {}
     },
     "1571eb130ebf40a5980ccb9303ab95cf": {
      "model_module": "@jupyter-widgets/base",
      "model_module_version": "1.2.0",
      "model_name": "LayoutModel",
      "state": {}
     },
     "16554fca0308404fb431eb20e98f29ba": {
      "model_module": "@jupyter-widgets/controls",
      "model_module_version": "1.5.0",
      "model_name": "FloatSliderModel",
      "state": {
       "description": "y0",
       "layout": "IPY_MODEL_25372d9200ac495e8c1ef8de8e8de9fc",
       "max": 880,
       "step": 0.01,
       "style": "IPY_MODEL_f087e3670c2e47f186a32a3dd1a7d041",
       "value": 431.37936074130306
      }
     },
     "1694fd3437a34804a3c9031b93f869f9": {
      "model_module": "@jupyter-widgets/base",
      "model_module_version": "1.2.0",
      "model_name": "LayoutModel",
      "state": {}
     },
     "17217834e37649ec9310600dd5c9df8a": {
      "model_module": "jupyter-matplotlib",
      "model_module_version": "^0.8.2",
      "model_name": "MPLCanvasModel",
      "state": {
       "_figure_label": "Figure 3",
       "_height": 1500,
       "_width": 800,
       "layout": "IPY_MODEL_d07011f910a247f58492f1e97bfe23b3",
       "toolbar": "IPY_MODEL_4a0e75d097c64d71b9e76641edcbd2f4",
       "toolbar_position": "left"
      }
     },
     "173d9efc44734f9e80e594e138e30032": {
      "model_module": "@jupyter-widgets/base",
      "model_module_version": "1.2.0",
      "model_name": "LayoutModel",
      "state": {}
     },
     "17d7c8bfb7e04a6b923137d5c2e499ed": {
      "model_module": "@jupyter-widgets/controls",
      "model_module_version": "1.5.0",
      "model_name": "SliderStyleModel",
      "state": {
       "description_width": ""
      }
     },
     "17e2cbcf95ed4967919e078bb62e11d4": {
      "model_module": "@jupyter-widgets/controls",
      "model_module_version": "1.5.0",
      "model_name": "FloatSliderModel",
      "state": {
       "description": "gamma",
       "layout": "IPY_MODEL_645027c625d84bd8969f277cdf9a90b9",
       "max": 1,
       "min": 0.1,
       "step": 0.01,
       "style": "IPY_MODEL_63fa76accf3c48859129915d7cae8131",
       "value": 1
      }
     },
     "1b0209b20d1047a8847f47e67268190a": {
      "model_module": "@jupyter-widgets/output",
      "model_module_version": "1.0.0",
      "model_name": "OutputModel",
      "state": {
       "layout": "IPY_MODEL_99978f0014ab498499a46e257be03690"
      }
     },
     "1c0a19b75a02471bbbb742b67e1d8bb1": {
      "model_module": "@jupyter-widgets/controls",
      "model_module_version": "1.5.0",
      "model_name": "SliderStyleModel",
      "state": {
       "description_width": ""
      }
     },
     "1c84e818cabb4b5abb9801517a8cc0e8": {
      "model_module": "@jupyter-widgets/base",
      "model_module_version": "1.2.0",
      "model_name": "LayoutModel",
      "state": {}
     },
     "1cc79a1eb6b64a8f84794e15c47927de": {
      "model_module": "@jupyter-widgets/output",
      "model_module_version": "1.0.0",
      "model_name": "OutputModel",
      "state": {
       "layout": "IPY_MODEL_7e53fb5e438641a8bbaf00ebd5e3ce8a"
      }
     },
     "1cdaa69ce8844681ba3c37dd47cf828d": {
      "model_module": "@jupyter-widgets/base",
      "model_module_version": "1.2.0",
      "model_name": "LayoutModel",
      "state": {}
     },
     "1de8de2cdce54afdafad9271f72363d8": {
      "model_module": "@jupyter-widgets/controls",
      "model_module_version": "1.5.0",
      "model_name": "SliderStyleModel",
      "state": {
       "description_width": ""
      }
     },
     "1f14898c82e3491baa579a89a8cd8bd7": {
      "model_module": "@jupyter-widgets/output",
      "model_module_version": "1.0.0",
      "model_name": "OutputModel",
      "state": {
       "layout": "IPY_MODEL_ccb1db0afa074419a56723684d4aaaea"
      }
     },
     "1f7ffd7c2a6f4ca1802eb9af66a075a7": {
      "model_module": "@jupyter-widgets/base",
      "model_module_version": "1.2.0",
      "model_name": "LayoutModel",
      "state": {}
     },
     "20901ea9dd5b48b88a639cd15136f4f3": {
      "model_module": "@jupyter-widgets/base",
      "model_module_version": "1.2.0",
      "model_name": "LayoutModel",
      "state": {}
     },
     "20fe2d3b98864c57a0c46547bac719d8": {
      "model_module": "@jupyter-widgets/controls",
      "model_module_version": "1.5.0",
      "model_name": "VBoxModel",
      "state": {
       "_dom_classes": [
        "widget-interact"
       ],
       "children": [
        "IPY_MODEL_4cc36ca3515140359a3d6345dacf9b6a",
        "IPY_MODEL_33d0f405a3554571ab13c7aeefca6a98",
        "IPY_MODEL_3dd3166ca5d945e19a4107897c599e2b",
        "IPY_MODEL_440d001b9dc04026a47986d9a0b35b40",
        "IPY_MODEL_a3c277d9ef6c40e8ba47592791fb81a4"
       ],
       "layout": "IPY_MODEL_ffa209c34f5c4372b76bdf351ea2bf44"
      }
     },
     "22a0ea365640452b8e2e47ee9daeb4b4": {
      "model_module": "@jupyter-widgets/controls",
      "model_module_version": "1.5.0",
      "model_name": "FloatSliderModel",
      "state": {
       "description": "scale",
       "layout": "IPY_MODEL_a1db79b3705041008112c8f401712291",
       "max": 25,
       "min": 5,
       "step": 0.01,
       "style": "IPY_MODEL_f776e08e425e4fe291046bbfdeab10e6",
       "value": 25
      }
     },
     "233f76eb695d45f3b4d3a5377919bae3": {
      "model_module": "@jupyter-widgets/controls",
      "model_module_version": "1.5.0",
      "model_name": "FloatSliderModel",
      "state": {
       "description": "alpha",
       "layout": "IPY_MODEL_d6003a53620842cfa47e323960d5ab47",
       "max": 360,
       "step": 0.01,
       "style": "IPY_MODEL_b54cfe6c2f8b4f649d07c03b4ce4d571",
       "value": 171.29
      }
     },
     "23bd903501204ad0997ac2924c520190": {
      "model_module": "@jupyter-widgets/base",
      "model_module_version": "1.2.0",
      "model_name": "LayoutModel",
      "state": {}
     },
     "23ebef6da5354437a9053f3056dc5fcb": {
      "model_module": "@jupyter-widgets/controls",
      "model_module_version": "1.5.0",
      "model_name": "FloatSliderModel",
      "state": {
       "description": "alpha",
       "layout": "IPY_MODEL_70c45604592f4b88a5bf2b40b0f0ade6",
       "max": 360,
       "step": 0.01,
       "style": "IPY_MODEL_b6e4ba906ee14355ab34b1d089f88b8c",
       "value": 171.29
      }
     },
     "242aff7461b9422e88abe6a99ab493c3": {
      "model_module": "@jupyter-widgets/controls",
      "model_module_version": "1.5.0",
      "model_name": "SliderStyleModel",
      "state": {
       "description_width": ""
      }
     },
     "25372d9200ac495e8c1ef8de8e8de9fc": {
      "model_module": "@jupyter-widgets/base",
      "model_module_version": "1.2.0",
      "model_name": "LayoutModel",
      "state": {}
     },
     "2578843b06d3441ba6fc8c8640dd5a97": {
      "model_module": "@jupyter-widgets/base",
      "model_module_version": "1.2.0",
      "model_name": "LayoutModel",
      "state": {}
     },
     "257ce04113df4f0cbe328c3fb9059e52": {
      "model_module": "jupyter-matplotlib",
      "model_module_version": "^0.8.2",
      "model_name": "ToolbarModel",
      "state": {
       "layout": "IPY_MODEL_49ba49d3ae4246b1944401e992d8cdbc",
       "toolitems": [
        [
         "Home",
         "Reset original view",
         "home",
         "home"
        ],
        [
         "Back",
         "Back to  previous view",
         "arrow-left",
         "back"
        ],
        [
         "Forward",
         "Forward to next view",
         "arrow-right",
         "forward"
        ],
        [
         "Pan",
         "Pan axes with left mouse, zoom with right",
         "arrows",
         "pan"
        ],
        [
         "Zoom",
         "Zoom to rectangle",
         "square-o",
         "zoom"
        ],
        [
         "Download",
         "Download plot",
         "floppy-o",
         "save_figure"
        ]
       ]
      }
     },
     "2668503f53834d20acb9b6cc9b0fef99": {
      "model_module": "@jupyter-widgets/base",
      "model_module_version": "1.2.0",
      "model_name": "LayoutModel",
      "state": {}
     },
     "272131811392482db0c290d5a80b1912": {
      "model_module": "@jupyter-widgets/base",
      "model_module_version": "1.2.0",
      "model_name": "LayoutModel",
      "state": {}
     },
     "291c3e7175a94df59cf4d545696814d6": {
      "model_module": "@jupyter-widgets/base",
      "model_module_version": "1.2.0",
      "model_name": "LayoutModel",
      "state": {}
     },
     "29b702218dd444839f2c0a0a941d54f5": {
      "model_module": "@jupyter-widgets/base",
      "model_module_version": "1.2.0",
      "model_name": "LayoutModel",
      "state": {}
     },
     "29e4767880e64a22888214748d708239": {
      "model_module": "@jupyter-widgets/base",
      "model_module_version": "1.2.0",
      "model_name": "LayoutModel",
      "state": {}
     },
     "2abd5d6780a746508e27355b468d7f61": {
      "model_module": "@jupyter-widgets/base",
      "model_module_version": "1.2.0",
      "model_name": "LayoutModel",
      "state": {}
     },
     "2b359e67280d47189842aa16b392e6d0": {
      "model_module": "@jupyter-widgets/base",
      "model_module_version": "1.2.0",
      "model_name": "LayoutModel",
      "state": {}
     },
     "2bca3053ab334b33b141aa4d3a79adf4": {
      "model_module": "@jupyter-widgets/base",
      "model_module_version": "1.2.0",
      "model_name": "LayoutModel",
      "state": {}
     },
     "2c901fe22d9845ceaa36e7269d1c063b": {
      "model_module": "@jupyter-widgets/base",
      "model_module_version": "1.2.0",
      "model_name": "LayoutModel",
      "state": {}
     },
     "2ca6ef9b47da452aa6b03df08e90ae1b": {
      "model_module": "jupyter-matplotlib",
      "model_module_version": "^0.8.2",
      "model_name": "ToolbarModel",
      "state": {
       "layout": "IPY_MODEL_fe96d829e5b54b04b0fc3ee337b2ab38",
       "toolitems": [
        [
         "Home",
         "Reset original view",
         "home",
         "home"
        ],
        [
         "Back",
         "Back to  previous view",
         "arrow-left",
         "back"
        ],
        [
         "Forward",
         "Forward to next view",
         "arrow-right",
         "forward"
        ],
        [
         "Pan",
         "Pan axes with left mouse, zoom with right",
         "arrows",
         "pan"
        ],
        [
         "Zoom",
         "Zoom to rectangle",
         "square-o",
         "zoom"
        ],
        [
         "Download",
         "Download plot",
         "floppy-o",
         "save_figure"
        ]
       ]
      }
     },
     "2da53afb084b444f8b830da8649a9b89": {
      "model_module": "@jupyter-widgets/base",
      "model_module_version": "1.2.0",
      "model_name": "LayoutModel",
      "state": {}
     },
     "2e13dee6c2ec4d4e88988eeed2cc0dd2": {
      "model_module": "@jupyter-widgets/base",
      "model_module_version": "1.2.0",
      "model_name": "LayoutModel",
      "state": {}
     },
     "2e4dc27548b2490e91356f0dfffb2495": {
      "model_module": "@jupyter-widgets/controls",
      "model_module_version": "1.5.0",
      "model_name": "SliderStyleModel",
      "state": {
       "description_width": ""
      }
     },
     "306f3eb3560b4ff8ac4938ea38e4a9ed": {
      "model_module": "@jupyter-widgets/controls",
      "model_module_version": "1.5.0",
      "model_name": "FloatSliderModel",
      "state": {
       "description": "y0",
       "layout": "IPY_MODEL_ad4f7e1fd6c94567a23bd421e98868c2",
       "max": 880,
       "step": 0.01,
       "style": "IPY_MODEL_3afb63579f484e0eb28f49bec142ab86",
       "value": 431.37936074130306
      }
     },
     "329ad46d463e48c7a85990fa8515b593": {
      "model_module": "@jupyter-widgets/controls",
      "model_module_version": "1.5.0",
      "model_name": "FloatSliderModel",
      "state": {
       "description": "x0",
       "layout": "IPY_MODEL_0dee1d6772e84165b5b07f55d653a865",
       "max": 1040,
       "step": 0.01,
       "style": "IPY_MODEL_65836eddf1a347f5861fe0ac1c7971f1",
       "value": 520
      }
     },
     "33d0f405a3554571ab13c7aeefca6a98": {
      "model_module": "@jupyter-widgets/controls",
      "model_module_version": "1.5.0",
      "model_name": "FloatSliderModel",
      "state": {
       "description": "alpha",
       "layout": "IPY_MODEL_eb7fc781e4704745926e3f8871033fa7",
       "max": 360,
       "step": 0.01,
       "style": "IPY_MODEL_e3ab0a37dfc749ae868b18582ab76d52",
       "value": 171.29
      }
     },
     "344b8e2d290c41118db1ee17ecf340c9": {
      "model_module": "jupyter-matplotlib",
      "model_module_version": "^0.8.2",
      "model_name": "ToolbarModel",
      "state": {
       "layout": "IPY_MODEL_d915ca0f5ca842ffaeefe7ba0da8e5ff",
       "toolitems": [
        [
         "Home",
         "Reset original view",
         "home",
         "home"
        ],
        [
         "Back",
         "Back to  previous view",
         "arrow-left",
         "back"
        ],
        [
         "Forward",
         "Forward to next view",
         "arrow-right",
         "forward"
        ],
        [
         "Pan",
         "Pan axes with left mouse, zoom with right",
         "arrows",
         "pan"
        ],
        [
         "Zoom",
         "Zoom to rectangle",
         "square-o",
         "zoom"
        ],
        [
         "Download",
         "Download plot",
         "floppy-o",
         "save_figure"
        ]
       ]
      }
     },
     "346a0e5ee0d947efbdf21ff7c18aca49": {
      "model_module": "@jupyter-widgets/base",
      "model_module_version": "1.2.0",
      "model_name": "LayoutModel",
      "state": {}
     },
     "36e0a144b9de4b699d3942a561693407": {
      "model_module": "@jupyter-widgets/base",
      "model_module_version": "1.2.0",
      "model_name": "LayoutModel",
      "state": {}
     },
     "37e3950c9805405d9f9ab3768941a428": {
      "model_module": "@jupyter-widgets/controls",
      "model_module_version": "1.5.0",
      "model_name": "FloatSliderModel",
      "state": {
       "description": "scale",
       "layout": "IPY_MODEL_5fb5d45ceeeb4cf69995da19a2ea1eb9",
       "max": 25,
       "min": 5,
       "step": 0.01,
       "style": "IPY_MODEL_3ad3db4edee248039f3a7fe059b6fcce",
       "value": 18.711655449170152
      }
     },
     "382ccc172aa44a2db8193b2ecd809073": {
      "model_module": "@jupyter-widgets/base",
      "model_module_version": "1.2.0",
      "model_name": "LayoutModel",
      "state": {}
     },
     "38ab3dfc3e034b6e907a99c44421514e": {
      "model_module": "jupyter-matplotlib",
      "model_module_version": "^0.8.2",
      "model_name": "MPLCanvasModel",
      "state": {
       "_figure_label": "Figure 1",
       "_height": 1000,
       "_width": 1000,
       "layout": "IPY_MODEL_ef0f0b6582d44c3a82beb8537cb0bdd4",
       "toolbar": "IPY_MODEL_d7d73b843b524eaab4f8cc4ddc5a5a18",
       "toolbar_position": "left"
      }
     },
     "38bdac1d03fa4411abcd9770194e2403": {
      "model_module": "@jupyter-widgets/base",
      "model_module_version": "1.2.0",
      "model_name": "LayoutModel",
      "state": {}
     },
     "392649d3e6494975a1d4a01d5c5bebb2": {
      "model_module": "@jupyter-widgets/base",
      "model_module_version": "1.2.0",
      "model_name": "LayoutModel",
      "state": {}
     },
     "3a276d2d90c14659988b3fa4659d870e": {
      "model_module": "@jupyter-widgets/base",
      "model_module_version": "1.2.0",
      "model_name": "LayoutModel",
      "state": {}
     },
     "3a320dfa12fd4d7aab92cb8848e15562": {
      "model_module": "@jupyter-widgets/controls",
      "model_module_version": "1.5.0",
      "model_name": "FloatSliderModel",
      "state": {
       "description": "y0",
       "layout": "IPY_MODEL_20901ea9dd5b48b88a639cd15136f4f3",
       "max": 880,
       "step": 0.01,
       "style": "IPY_MODEL_882c36100400448a95535b36d5534a74",
       "value": 440
      }
     },
     "3a6d87783f4447baaabd5bb7e04e7c0f": {
      "model_module": "@jupyter-widgets/base",
      "model_module_version": "1.2.0",
      "model_name": "LayoutModel",
      "state": {}
     },
     "3ad3db4edee248039f3a7fe059b6fcce": {
      "model_module": "@jupyter-widgets/controls",
      "model_module_version": "1.5.0",
      "model_name": "SliderStyleModel",
      "state": {
       "description_width": ""
      }
     },
     "3adec4dfb18147ceae1a66cee3115b7f": {
      "model_module": "@jupyter-widgets/controls",
      "model_module_version": "1.5.0",
      "model_name": "FloatSliderModel",
      "state": {
       "description": "scale",
       "layout": "IPY_MODEL_272131811392482db0c290d5a80b1912",
       "max": 25,
       "min": 5,
       "step": 0.01,
       "style": "IPY_MODEL_79722017e04441e699802bb3de58266c",
       "value": 18.711655449170152
      }
     },
     "3afa525e0d2a4b6d9b377cbfc64da48b": {
      "model_module": "@jupyter-widgets/controls",
      "model_module_version": "1.5.0",
      "model_name": "FloatSliderModel",
      "state": {
       "description": "alpha",
       "layout": "IPY_MODEL_615f92456c504a53867a89f6338a49e8",
       "max": 360,
       "step": 0.01,
       "style": "IPY_MODEL_519e18514dd64f57b70036c39aae2468",
       "value": 170.6650227707358
      }
     },
     "3afb63579f484e0eb28f49bec142ab86": {
      "model_module": "@jupyter-widgets/controls",
      "model_module_version": "1.5.0",
      "model_name": "SliderStyleModel",
      "state": {
       "description_width": ""
      }
     },
     "3dd3166ca5d945e19a4107897c599e2b": {
      "model_module": "@jupyter-widgets/controls",
      "model_module_version": "1.5.0",
      "model_name": "FloatSliderModel",
      "state": {
       "description": "x0",
       "layout": "IPY_MODEL_2e13dee6c2ec4d4e88988eeed2cc0dd2",
       "max": 1040,
       "step": 0.01,
       "style": "IPY_MODEL_90ec234df63543da9b0a03a3acb18444",
       "value": 528.380291398653
      }
     },
     "3eddba95b35c47d4b36619539b5e40d2": {
      "model_module": "@jupyter-widgets/controls",
      "model_module_version": "1.5.0",
      "model_name": "FloatSliderModel",
      "state": {
       "description": "y0",
       "layout": "IPY_MODEL_4ff5dac077b040168e3b5e2c453490fc",
       "max": 880,
       "step": 0.01,
       "style": "IPY_MODEL_121dc9af7b684308a5a516317bae55c8",
       "value": 431.37936074130306
      }
     },
     "3f5a70a1006945c7b1137b750d777495": {
      "model_module": "@jupyter-widgets/base",
      "model_module_version": "1.2.0",
      "model_name": "LayoutModel",
      "state": {}
     },
     "3f8f92f2a24e4bbea8e5c3b0674d80d5": {
      "model_module": "@jupyter-widgets/controls",
      "model_module_version": "1.5.0",
      "model_name": "FloatSliderModel",
      "state": {
       "description": "scale",
       "layout": "IPY_MODEL_c395b68fac4d426ca235906e50f8b189",
       "max": 25,
       "min": 5,
       "step": 0.01,
       "style": "IPY_MODEL_d7ee5ee8607d44b9affcc1d7abb1ae95",
       "value": 18.711655449170152
      }
     },
     "4034b524957f45d98d1172e36c326031": {
      "model_module": "@jupyter-widgets/base",
      "model_module_version": "1.2.0",
      "model_name": "LayoutModel",
      "state": {}
     },
     "412f77821327454fa8794cc964f7b8b0": {
      "model_module": "@jupyter-widgets/controls",
      "model_module_version": "1.5.0",
      "model_name": "VBoxModel",
      "state": {
       "_dom_classes": [
        "widget-interact"
       ],
       "children": [
        "IPY_MODEL_e026b8c37d4f47fbb82d9345d0c48c0b",
        "IPY_MODEL_5656f436410a4572bbe231199ce2fd8c"
       ],
       "layout": "IPY_MODEL_0524b50511cb48159ddb119c8a185d2f"
      }
     },
     "423807f4a8f240959b24d5c4d5d16a1e": {
      "model_module": "@jupyter-widgets/controls",
      "model_module_version": "1.5.0",
      "model_name": "SliderStyleModel",
      "state": {
       "description_width": ""
      }
     },
     "4281608246b44dcd93a6f7565021fa43": {
      "model_module": "@jupyter-widgets/base",
      "model_module_version": "1.2.0",
      "model_name": "LayoutModel",
      "state": {}
     },
     "42c87eababf244808a8f727247749b67": {
      "model_module": "@jupyter-widgets/base",
      "model_module_version": "1.2.0",
      "model_name": "LayoutModel",
      "state": {}
     },
     "43058d2c2c5c410ba7a63658aac25369": {
      "model_module": "@jupyter-widgets/controls",
      "model_module_version": "1.5.0",
      "model_name": "FloatSliderModel",
      "state": {
       "description": "gamma",
       "layout": "IPY_MODEL_aa461f8b03364158be5249705889a1c4",
       "max": 1,
       "min": 0.1,
       "step": 0.01,
       "style": "IPY_MODEL_1165680e5d3a423eb327cd3b1ab5d1a1",
       "value": 1
      }
     },
     "4315b2b02d80491dabbde349658205ab": {
      "model_module": "@jupyter-widgets/base",
      "model_module_version": "1.2.0",
      "model_name": "LayoutModel",
      "state": {}
     },
     "43f024db0c7241be82c30ba0ab3c6ae7": {
      "model_module": "@jupyter-widgets/base",
      "model_module_version": "1.2.0",
      "model_name": "LayoutModel",
      "state": {}
     },
     "440d001b9dc04026a47986d9a0b35b40": {
      "model_module": "@jupyter-widgets/controls",
      "model_module_version": "1.5.0",
      "model_name": "FloatSliderModel",
      "state": {
       "description": "y0",
       "layout": "IPY_MODEL_e0019eb63f974478b68e2c1b6d5fe856",
       "max": 880,
       "step": 0.01,
       "style": "IPY_MODEL_48b35b1aa5024d9298c357f6ebe906a1",
       "value": 431.37936074130306
      }
     },
     "44e96f4607a14f09b56a201396ef12a4": {
      "model_module": "@jupyter-widgets/controls",
      "model_module_version": "1.5.0",
      "model_name": "VBoxModel",
      "state": {
       "_dom_classes": [
        "widget-interact"
       ],
       "children": [
        "IPY_MODEL_c52a3a3daccc4c21a277a6989ce6f8c5",
        "IPY_MODEL_c81df293020643b686dd127491a9de84"
       ],
       "layout": "IPY_MODEL_489f769ff90d456b9903f540ce97328c"
      }
     },
     "461cef4a575544f18685ae18ba58353f": {
      "model_module": "@jupyter-widgets/base",
      "model_module_version": "1.2.0",
      "model_name": "LayoutModel",
      "state": {}
     },
     "46cd251f100646b689539646b0351c79": {
      "model_module": "jupyter-matplotlib",
      "model_module_version": "^0.8.2",
      "model_name": "ToolbarModel",
      "state": {
       "layout": "IPY_MODEL_f52e89d0c5294534aee6278685669de4",
       "toolitems": [
        [
         "Home",
         "Reset original view",
         "home",
         "home"
        ],
        [
         "Back",
         "Back to  previous view",
         "arrow-left",
         "back"
        ],
        [
         "Forward",
         "Forward to next view",
         "arrow-right",
         "forward"
        ],
        [
         "Pan",
         "Pan axes with left mouse, zoom with right",
         "arrows",
         "pan"
        ],
        [
         "Zoom",
         "Zoom to rectangle",
         "square-o",
         "zoom"
        ],
        [
         "Download",
         "Download plot",
         "floppy-o",
         "save_figure"
        ]
       ]
      }
     },
     "4727e660c3464b89be7f3f6f666365ba": {
      "model_module": "@jupyter-widgets/controls",
      "model_module_version": "1.5.0",
      "model_name": "VBoxModel",
      "state": {
       "_dom_classes": [
        "widget-interact"
       ],
       "children": [
        "IPY_MODEL_3f8f92f2a24e4bbea8e5c3b0674d80d5",
        "IPY_MODEL_23ebef6da5354437a9053f3056dc5fcb",
        "IPY_MODEL_9cec250e1bf24c64bcdcd6decbea9e07",
        "IPY_MODEL_4c3972b2f1894fd08071180ce55133a9",
        "IPY_MODEL_06ec5ed083684405a648b08a2c95d40a"
       ],
       "layout": "IPY_MODEL_13aa6bc8276846cd876fd90737aca670"
      }
     },
     "47bcddfa1e7048ba8be8e5549a041038": {
      "model_module": "jupyter-matplotlib",
      "model_module_version": "^0.8.2",
      "model_name": "ToolbarModel",
      "state": {
       "layout": "IPY_MODEL_e19b817f57d740eda996896d74e40105",
       "toolitems": [
        [
         "Home",
         "Reset original view",
         "home",
         "home"
        ],
        [
         "Back",
         "Back to  previous view",
         "arrow-left",
         "back"
        ],
        [
         "Forward",
         "Forward to next view",
         "arrow-right",
         "forward"
        ],
        [
         "Pan",
         "Pan axes with left mouse, zoom with right",
         "arrows",
         "pan"
        ],
        [
         "Zoom",
         "Zoom to rectangle",
         "square-o",
         "zoom"
        ],
        [
         "Download",
         "Download plot",
         "floppy-o",
         "save_figure"
        ]
       ]
      }
     },
     "47eb5255588941e3b348fbf255dc0ef9": {
      "model_module": "@jupyter-widgets/base",
      "model_module_version": "1.2.0",
      "model_name": "LayoutModel",
      "state": {}
     },
     "489f769ff90d456b9903f540ce97328c": {
      "model_module": "@jupyter-widgets/base",
      "model_module_version": "1.2.0",
      "model_name": "LayoutModel",
      "state": {}
     },
     "48b35b1aa5024d9298c357f6ebe906a1": {
      "model_module": "@jupyter-widgets/controls",
      "model_module_version": "1.5.0",
      "model_name": "SliderStyleModel",
      "state": {
       "description_width": ""
      }
     },
     "49ba49d3ae4246b1944401e992d8cdbc": {
      "model_module": "@jupyter-widgets/base",
      "model_module_version": "1.2.0",
      "model_name": "LayoutModel",
      "state": {}
     },
     "4a0e75d097c64d71b9e76641edcbd2f4": {
      "model_module": "jupyter-matplotlib",
      "model_module_version": "^0.8.2",
      "model_name": "ToolbarModel",
      "state": {
       "layout": "IPY_MODEL_e5c4f2db89ba4117a107b827ab6b0911",
       "toolitems": [
        [
         "Home",
         "Reset original view",
         "home",
         "home"
        ],
        [
         "Back",
         "Back to  previous view",
         "arrow-left",
         "back"
        ],
        [
         "Forward",
         "Forward to next view",
         "arrow-right",
         "forward"
        ],
        [
         "Pan",
         "Pan axes with left mouse, zoom with right",
         "arrows",
         "pan"
        ],
        [
         "Zoom",
         "Zoom to rectangle",
         "square-o",
         "zoom"
        ],
        [
         "Download",
         "Download plot",
         "floppy-o",
         "save_figure"
        ]
       ]
      }
     },
     "4a1c5d1fb24a48ed89e32d08ae97c3e0": {
      "model_module": "jupyter-matplotlib",
      "model_module_version": "^0.8.2",
      "model_name": "ToolbarModel",
      "state": {
       "layout": "IPY_MODEL_af1bfe3d2b064309bf54cbdee92ee46b",
       "toolitems": [
        [
         "Home",
         "Reset original view",
         "home",
         "home"
        ],
        [
         "Back",
         "Back to  previous view",
         "arrow-left",
         "back"
        ],
        [
         "Forward",
         "Forward to next view",
         "arrow-right",
         "forward"
        ],
        [
         "Pan",
         "Pan axes with left mouse, zoom with right",
         "arrows",
         "pan"
        ],
        [
         "Zoom",
         "Zoom to rectangle",
         "square-o",
         "zoom"
        ],
        [
         "Download",
         "Download plot",
         "floppy-o",
         "save_figure"
        ]
       ]
      }
     },
     "4aa9a0be56c84bd3be4a038e31dffebb": {
      "model_module": "@jupyter-widgets/controls",
      "model_module_version": "1.5.0",
      "model_name": "SliderStyleModel",
      "state": {
       "description_width": ""
      }
     },
     "4abc283643ad4dfba4a7adb35d968a35": {
      "model_module": "@jupyter-widgets/base",
      "model_module_version": "1.2.0",
      "model_name": "LayoutModel",
      "state": {}
     },
     "4b0e2b3ac0fd4c9a9628762e394f482c": {
      "model_module": "@jupyter-widgets/output",
      "model_module_version": "1.0.0",
      "model_name": "OutputModel",
      "state": {
       "layout": "IPY_MODEL_d895359f6b6d4b4c9696a8b51db3352b",
       "outputs": [
        {
         "name": "stdout",
         "output_type": "stream",
         "text": "[-16073380.16673697    316518.18234241]\n"
        }
       ]
      }
     },
     "4c23deed613d4f4fa1b379e72e3b6a3b": {
      "model_module": "jupyter-matplotlib",
      "model_module_version": "^0.8.2",
      "model_name": "ToolbarModel",
      "state": {
       "layout": "IPY_MODEL_1f7ffd7c2a6f4ca1802eb9af66a075a7",
       "toolitems": [
        [
         "Home",
         "Reset original view",
         "home",
         "home"
        ],
        [
         "Back",
         "Back to  previous view",
         "arrow-left",
         "back"
        ],
        [
         "Forward",
         "Forward to next view",
         "arrow-right",
         "forward"
        ],
        [
         "Pan",
         "Pan axes with left mouse, zoom with right",
         "arrows",
         "pan"
        ],
        [
         "Zoom",
         "Zoom to rectangle",
         "square-o",
         "zoom"
        ],
        [
         "Download",
         "Download plot",
         "floppy-o",
         "save_figure"
        ]
       ]
      }
     },
     "4c3972b2f1894fd08071180ce55133a9": {
      "model_module": "@jupyter-widgets/controls",
      "model_module_version": "1.5.0",
      "model_name": "FloatSliderModel",
      "state": {
       "description": "y0",
       "layout": "IPY_MODEL_ee27c42749b644cf934734c5fe897d80",
       "max": 880,
       "step": 0.01,
       "style": "IPY_MODEL_6c01fe73bc8d44e3b93abe59651e0462",
       "value": 431.37936074130306
      }
     },
     "4cc36ca3515140359a3d6345dacf9b6a": {
      "model_module": "@jupyter-widgets/controls",
      "model_module_version": "1.5.0",
      "model_name": "FloatSliderModel",
      "state": {
       "description": "scale",
       "layout": "IPY_MODEL_ad84e8a9ca7f45deb07061fe2530383f",
       "max": 25,
       "min": 5,
       "step": 0.01,
       "style": "IPY_MODEL_0a270583faf84eb782b979149602bdc5",
       "value": 18.711655449170152
      }
     },
     "4ff5dac077b040168e3b5e2c453490fc": {
      "model_module": "@jupyter-widgets/base",
      "model_module_version": "1.2.0",
      "model_name": "LayoutModel",
      "state": {}
     },
     "519e18514dd64f57b70036c39aae2468": {
      "model_module": "@jupyter-widgets/controls",
      "model_module_version": "1.5.0",
      "model_name": "SliderStyleModel",
      "state": {
       "description_width": ""
      }
     },
     "51dfd62c86324b569d574b315c1011cb": {
      "model_module": "@jupyter-widgets/base",
      "model_module_version": "1.2.0",
      "model_name": "LayoutModel",
      "state": {}
     },
     "51e9e1a0fce14053bac5fa8c05a82ba0": {
      "model_module": "@jupyter-widgets/controls",
      "model_module_version": "1.5.0",
      "model_name": "FloatSliderModel",
      "state": {
       "description": "x0",
       "layout": "IPY_MODEL_dd66536b33984e479948860673144743",
       "max": 1040,
       "step": 0.01,
       "style": "IPY_MODEL_6e895db387894b39a01bc89c6a7aff74",
       "value": 528.380291398653
      }
     },
     "527e2b1274984fbc833e42b2f9aff793": {
      "model_module": "@jupyter-widgets/controls",
      "model_module_version": "1.5.0",
      "model_name": "FloatSliderModel",
      "state": {
       "description": "scale",
       "layout": "IPY_MODEL_bcfe202a224e4992b962818f1cf84a75",
       "max": 25,
       "min": 5,
       "step": 0.01,
       "style": "IPY_MODEL_776f6a3cf6784fc99f82a98e3ec1e767",
       "value": 18.711655449170152
      }
     },
     "52a11731b9064ea6ac635564f8f4a6b2": {
      "model_module": "@jupyter-widgets/base",
      "model_module_version": "1.2.0",
      "model_name": "LayoutModel",
      "state": {}
     },
     "53e22dcba51c40a09c3556c72d1e4293": {
      "model_module": "@jupyter-widgets/output",
      "model_module_version": "1.0.0",
      "model_name": "OutputModel",
      "state": {
       "layout": "IPY_MODEL_3f5a70a1006945c7b1137b750d777495"
      }
     },
     "54032c246ce744f28fcd29ec97a3d9b6": {
      "model_module": "@jupyter-widgets/base",
      "model_module_version": "1.2.0",
      "model_name": "LayoutModel",
      "state": {}
     },
     "542190b0a25d4819b656fa75280961f0": {
      "model_module": "@jupyter-widgets/base",
      "model_module_version": "1.2.0",
      "model_name": "LayoutModel",
      "state": {}
     },
     "549c3f11c2464b21b5285530696086e5": {
      "model_module": "@jupyter-widgets/controls",
      "model_module_version": "1.5.0",
      "model_name": "VBoxModel",
      "state": {
       "_dom_classes": [
        "widget-interact"
       ],
       "children": [
        "IPY_MODEL_17e2cbcf95ed4967919e078bb62e11d4",
        "IPY_MODEL_1b0209b20d1047a8847f47e67268190a"
       ],
       "layout": "IPY_MODEL_6033ea949db342e1964e7ecdaf05c80a"
      }
     },
     "549d3abc9ac2453b9f205f16912b3154": {
      "model_module": "jupyter-matplotlib",
      "model_module_version": "^0.8.2",
      "model_name": "ToolbarModel",
      "state": {
       "layout": "IPY_MODEL_82a91284f891486aa332196ed6b88ef1",
       "toolitems": [
        [
         "Home",
         "Reset original view",
         "home",
         "home"
        ],
        [
         "Back",
         "Back to  previous view",
         "arrow-left",
         "back"
        ],
        [
         "Forward",
         "Forward to next view",
         "arrow-right",
         "forward"
        ],
        [
         "Pan",
         "Pan axes with left mouse, zoom with right",
         "arrows",
         "pan"
        ],
        [
         "Zoom",
         "Zoom to rectangle",
         "square-o",
         "zoom"
        ],
        [
         "Download",
         "Download plot",
         "floppy-o",
         "save_figure"
        ]
       ]
      }
     },
     "5656f436410a4572bbe231199ce2fd8c": {
      "model_module": "@jupyter-widgets/output",
      "model_module_version": "1.0.0",
      "model_name": "OutputModel",
      "state": {
       "layout": "IPY_MODEL_adbcb728cabf42bbb0a928f5fcd50fa5"
      }
     },
     "56fd730e866747ee9d6f7338ca82966d": {
      "model_module": "@jupyter-widgets/base",
      "model_module_version": "1.2.0",
      "model_name": "LayoutModel",
      "state": {}
     },
     "570b2f0de6484257ba350358db8948bb": {
      "model_module": "@jupyter-widgets/controls",
      "model_module_version": "1.5.0",
      "model_name": "VBoxModel",
      "state": {
       "_dom_classes": [
        "widget-interact"
       ],
       "children": [
        "IPY_MODEL_6f4d18eaef8d4ba48616f24adad73d21",
        "IPY_MODEL_3afa525e0d2a4b6d9b377cbfc64da48b",
        "IPY_MODEL_51e9e1a0fce14053bac5fa8c05a82ba0",
        "IPY_MODEL_16554fca0308404fb431eb20e98f29ba",
        "IPY_MODEL_ace9e4c3b7004b418952a4c5d6e12fd4"
       ],
       "layout": "IPY_MODEL_66079db5a04d468090ac113d963d4d99"
      }
     },
     "577682cbd52e4e03a28679b5eabd50c9": {
      "model_module": "@jupyter-widgets/base",
      "model_module_version": "1.2.0",
      "model_name": "LayoutModel",
      "state": {}
     },
     "5777c2fbbb8a47cf937e39afdd874506": {
      "model_module": "@jupyter-widgets/controls",
      "model_module_version": "1.5.0",
      "model_name": "SliderStyleModel",
      "state": {
       "description_width": ""
      }
     },
     "57a5a3bf2fd34263941d9a98613095b2": {
      "model_module": "@jupyter-widgets/controls",
      "model_module_version": "1.5.0",
      "model_name": "FloatSliderModel",
      "state": {
       "description": "alpha",
       "layout": "IPY_MODEL_058e4a283d844a928e67e2a6bf32813c",
       "max": 360,
       "step": 0.01,
       "style": "IPY_MODEL_820f2fe41f7b458480cafe7bbdf227c0",
       "value": 170.6650227707358
      }
     },
     "582e751f001243a9903d16357e2e4563": {
      "model_module": "@jupyter-widgets/base",
      "model_module_version": "1.2.0",
      "model_name": "LayoutModel",
      "state": {}
     },
     "58734cf450b94cdca745af1c9531d2ff": {
      "model_module": "@jupyter-widgets/base",
      "model_module_version": "1.2.0",
      "model_name": "LayoutModel",
      "state": {}
     },
     "593a4a6197114196a6f05a786f4913d8": {
      "model_module": "@jupyter-widgets/base",
      "model_module_version": "1.2.0",
      "model_name": "LayoutModel",
      "state": {}
     },
     "5ab7fad1fea6467081f434ed5f6a4b3b": {
      "model_module": "jupyter-matplotlib",
      "model_module_version": "^0.8.2",
      "model_name": "ToolbarModel",
      "state": {
       "layout": "IPY_MODEL_fcabe78fff874ba9a4011ff67454858b",
       "toolitems": [
        [
         "Home",
         "Reset original view",
         "home",
         "home"
        ],
        [
         "Back",
         "Back to  previous view",
         "arrow-left",
         "back"
        ],
        [
         "Forward",
         "Forward to next view",
         "arrow-right",
         "forward"
        ],
        [
         "Pan",
         "Pan axes with left mouse, zoom with right",
         "arrows",
         "pan"
        ],
        [
         "Zoom",
         "Zoom to rectangle",
         "square-o",
         "zoom"
        ],
        [
         "Download",
         "Download plot",
         "floppy-o",
         "save_figure"
        ]
       ]
      }
     },
     "5ad51ced592945b49ac26ab29ad6ccd6": {
      "model_module": "@jupyter-widgets/base",
      "model_module_version": "1.2.0",
      "model_name": "LayoutModel",
      "state": {}
     },
     "5bd37414b24246339ab1864641a87c7c": {
      "model_module": "@jupyter-widgets/base",
      "model_module_version": "1.2.0",
      "model_name": "LayoutModel",
      "state": {}
     },
     "5cf519c86ac34c4084f6d821ee733e33": {
      "model_module": "@jupyter-widgets/base",
      "model_module_version": "1.2.0",
      "model_name": "LayoutModel",
      "state": {}
     },
     "5d1665b3fafa422b963540dfdb03242f": {
      "model_module": "@jupyter-widgets/controls",
      "model_module_version": "1.5.0",
      "model_name": "VBoxModel",
      "state": {
       "_dom_classes": [
        "widget-interact"
       ],
       "children": [
        "IPY_MODEL_43058d2c2c5c410ba7a63658aac25369",
        "IPY_MODEL_c20269b851c340dc8f2be4cc3aa2778a"
       ],
       "layout": "IPY_MODEL_4034b524957f45d98d1172e36c326031"
      }
     },
     "5e8ba04894c34aa0834dd4224afdcf10": {
      "model_module": "@jupyter-widgets/base",
      "model_module_version": "1.2.0",
      "model_name": "LayoutModel",
      "state": {}
     },
     "5f10324e4b8b460aad33ed4ff9f80b34": {
      "model_module": "@jupyter-widgets/base",
      "model_module_version": "1.2.0",
      "model_name": "LayoutModel",
      "state": {}
     },
     "5f692f9d227e437fb1e80c8e2ce3aacf": {
      "model_module": "@jupyter-widgets/controls",
      "model_module_version": "1.5.0",
      "model_name": "FloatSliderModel",
      "state": {
       "description": "x0",
       "layout": "IPY_MODEL_8046cdbdc6c7418ab37f0def170f34ce",
       "max": 1040,
       "step": 0.01,
       "style": "IPY_MODEL_608d9015c2fb4ff5a4b1b75f05998e77",
       "value": 528.380291398653
      }
     },
     "5f774c31bdd74cfaab1f898fe87a534e": {
      "model_module": "@jupyter-widgets/controls",
      "model_module_version": "1.5.0",
      "model_name": "FloatSliderModel",
      "state": {
       "description": "scale",
       "layout": "IPY_MODEL_291c3e7175a94df59cf4d545696814d6",
       "max": 25,
       "min": 5,
       "step": 0.01,
       "style": "IPY_MODEL_b1548453e2f04705acaf0fc3ce4898fe",
       "value": 18.711655449170152
      }
     },
     "5fb5d45ceeeb4cf69995da19a2ea1eb9": {
      "model_module": "@jupyter-widgets/base",
      "model_module_version": "1.2.0",
      "model_name": "LayoutModel",
      "state": {}
     },
     "6033ea949db342e1964e7ecdaf05c80a": {
      "model_module": "@jupyter-widgets/base",
      "model_module_version": "1.2.0",
      "model_name": "LayoutModel",
      "state": {}
     },
     "608d9015c2fb4ff5a4b1b75f05998e77": {
      "model_module": "@jupyter-widgets/controls",
      "model_module_version": "1.5.0",
      "model_name": "SliderStyleModel",
      "state": {
       "description_width": ""
      }
     },
     "60a875cfcf664945b65593ad31d01319": {
      "model_module": "@jupyter-widgets/controls",
      "model_module_version": "1.5.0",
      "model_name": "FloatSliderModel",
      "state": {
       "description": "gamma",
       "layout": "IPY_MODEL_8f0ddeacccb545e39e1e1724c8e9ad01",
       "max": 1,
       "min": 0.1,
       "step": 0.01,
       "style": "IPY_MODEL_e4874610d2c54ab79582f1787881ad59",
       "value": 1
      }
     },
     "61113d39c65847ee914a8e60b73ec2a8": {
      "model_module": "@jupyter-widgets/base",
      "model_module_version": "1.2.0",
      "model_name": "LayoutModel",
      "state": {}
     },
     "615f92456c504a53867a89f6338a49e8": {
      "model_module": "@jupyter-widgets/base",
      "model_module_version": "1.2.0",
      "model_name": "LayoutModel",
      "state": {}
     },
     "6277e9157d7c4f1da9a296374aa3d9b9": {
      "model_module": "jupyter-matplotlib",
      "model_module_version": "^0.8.2",
      "model_name": "ToolbarModel",
      "state": {
       "layout": "IPY_MODEL_7fb76575451f4800815c649c149ec7e7",
       "toolitems": [
        [
         "Home",
         "Reset original view",
         "home",
         "home"
        ],
        [
         "Back",
         "Back to  previous view",
         "arrow-left",
         "back"
        ],
        [
         "Forward",
         "Forward to next view",
         "arrow-right",
         "forward"
        ],
        [
         "Pan",
         "Pan axes with left mouse, zoom with right",
         "arrows",
         "pan"
        ],
        [
         "Zoom",
         "Zoom to rectangle",
         "square-o",
         "zoom"
        ],
        [
         "Download",
         "Download plot",
         "floppy-o",
         "save_figure"
        ]
       ]
      }
     },
     "62f07f776c3b4a28a8e58780c644f8c6": {
      "model_module": "@jupyter-widgets/base",
      "model_module_version": "1.2.0",
      "model_name": "LayoutModel",
      "state": {}
     },
     "63075b5ba457420292ab8f08a8a2c9d6": {
      "model_module": "@jupyter-widgets/controls",
      "model_module_version": "1.5.0",
      "model_name": "SliderStyleModel",
      "state": {
       "description_width": ""
      }
     },
     "633e6c156d114aeb9ddaaa779228387f": {
      "model_module": "@jupyter-widgets/base",
      "model_module_version": "1.2.0",
      "model_name": "LayoutModel",
      "state": {}
     },
     "63fa76accf3c48859129915d7cae8131": {
      "model_module": "@jupyter-widgets/controls",
      "model_module_version": "1.5.0",
      "model_name": "SliderStyleModel",
      "state": {
       "description_width": ""
      }
     },
     "643f953d139544c39d832455b2b29f68": {
      "model_module": "@jupyter-widgets/base",
      "model_module_version": "1.2.0",
      "model_name": "LayoutModel",
      "state": {}
     },
     "645027c625d84bd8969f277cdf9a90b9": {
      "model_module": "@jupyter-widgets/base",
      "model_module_version": "1.2.0",
      "model_name": "LayoutModel",
      "state": {}
     },
     "6457502ac7a842aa9ef5155c0f415116": {
      "model_module": "@jupyter-widgets/base",
      "model_module_version": "1.2.0",
      "model_name": "LayoutModel",
      "state": {}
     },
     "64ab6306cef04f4ca856311b850c6a39": {
      "model_module": "@jupyter-widgets/base",
      "model_module_version": "1.2.0",
      "model_name": "LayoutModel",
      "state": {}
     },
     "6512c727cff048c1a0b99478a3003dfb": {
      "model_module": "@jupyter-widgets/base",
      "model_module_version": "1.2.0",
      "model_name": "LayoutModel",
      "state": {}
     },
     "65836eddf1a347f5861fe0ac1c7971f1": {
      "model_module": "@jupyter-widgets/controls",
      "model_module_version": "1.5.0",
      "model_name": "SliderStyleModel",
      "state": {
       "description_width": ""
      }
     },
     "66079db5a04d468090ac113d963d4d99": {
      "model_module": "@jupyter-widgets/base",
      "model_module_version": "1.2.0",
      "model_name": "LayoutModel",
      "state": {}
     },
     "6881aa66f2504822a998653834dec601": {
      "model_module": "@jupyter-widgets/base",
      "model_module_version": "1.2.0",
      "model_name": "LayoutModel",
      "state": {}
     },
     "6a1d6372fd3b4003ac943323ac89bd45": {
      "model_module": "@jupyter-widgets/controls",
      "model_module_version": "1.5.0",
      "model_name": "SliderStyleModel",
      "state": {
       "description_width": ""
      }
     },
     "6b4249ca7adb46d29fad86d7cbf124be": {
      "model_module": "@jupyter-widgets/base",
      "model_module_version": "1.2.0",
      "model_name": "LayoutModel",
      "state": {}
     },
     "6c01fe73bc8d44e3b93abe59651e0462": {
      "model_module": "@jupyter-widgets/controls",
      "model_module_version": "1.5.0",
      "model_name": "SliderStyleModel",
      "state": {
       "description_width": ""
      }
     },
     "6c41a82c7fe746c9b9731cf447a3c2f5": {
      "model_module": "@jupyter-widgets/base",
      "model_module_version": "1.2.0",
      "model_name": "LayoutModel",
      "state": {}
     },
     "6d1ac2282ca14541abbcc3292a9dc1fa": {
      "model_module": "jupyter-matplotlib",
      "model_module_version": "^0.8.2",
      "model_name": "ToolbarModel",
      "state": {
       "layout": "IPY_MODEL_f57dfd630f0244a6b0c54eefab306395",
       "toolitems": [
        [
         "Home",
         "Reset original view",
         "home",
         "home"
        ],
        [
         "Back",
         "Back to  previous view",
         "arrow-left",
         "back"
        ],
        [
         "Forward",
         "Forward to next view",
         "arrow-right",
         "forward"
        ],
        [
         "Pan",
         "Pan axes with left mouse, zoom with right",
         "arrows",
         "pan"
        ],
        [
         "Zoom",
         "Zoom to rectangle",
         "square-o",
         "zoom"
        ],
        [
         "Download",
         "Download plot",
         "floppy-o",
         "save_figure"
        ]
       ]
      }
     },
     "6d788d3f60154c5187c405f719997cfd": {
      "model_module": "@jupyter-widgets/controls",
      "model_module_version": "1.5.0",
      "model_name": "FloatSliderModel",
      "state": {
       "description": "gamma",
       "layout": "IPY_MODEL_6881aa66f2504822a998653834dec601",
       "max": 1,
       "min": 0.1,
       "step": 0.01,
       "style": "IPY_MODEL_1c0a19b75a02471bbbb742b67e1d8bb1",
       "value": 0.33
      }
     },
     "6e895db387894b39a01bc89c6a7aff74": {
      "model_module": "@jupyter-widgets/controls",
      "model_module_version": "1.5.0",
      "model_name": "SliderStyleModel",
      "state": {
       "description_width": ""
      }
     },
     "6f4d18eaef8d4ba48616f24adad73d21": {
      "model_module": "@jupyter-widgets/controls",
      "model_module_version": "1.5.0",
      "model_name": "FloatSliderModel",
      "state": {
       "description": "scale",
       "layout": "IPY_MODEL_bdcabe325847400b9cfca8852bac3325",
       "max": 25,
       "min": 5,
       "step": 0.01,
       "style": "IPY_MODEL_ea2245a172b149ff82b592dd5f4be91b",
       "value": 18.81
      }
     },
     "6ff3f76a979043709688367c0d9f2792": {
      "model_module": "jupyter-matplotlib",
      "model_module_version": "^0.8.2",
      "model_name": "ToolbarModel",
      "state": {
       "layout": "IPY_MODEL_dd1df1fd765243a0b1204dc2908a0ab7",
       "toolitems": [
        [
         "Home",
         "Reset original view",
         "home",
         "home"
        ],
        [
         "Back",
         "Back to  previous view",
         "arrow-left",
         "back"
        ],
        [
         "Forward",
         "Forward to next view",
         "arrow-right",
         "forward"
        ],
        [
         "Pan",
         "Pan axes with left mouse, zoom with right",
         "arrows",
         "pan"
        ],
        [
         "Zoom",
         "Zoom to rectangle",
         "square-o",
         "zoom"
        ],
        [
         "Download",
         "Download plot",
         "floppy-o",
         "save_figure"
        ]
       ]
      }
     },
     "70c45604592f4b88a5bf2b40b0f0ade6": {
      "model_module": "@jupyter-widgets/base",
      "model_module_version": "1.2.0",
      "model_name": "LayoutModel",
      "state": {}
     },
     "7328eaecb0df43229c7f03d0ee76db12": {
      "model_module": "@jupyter-widgets/controls",
      "model_module_version": "1.5.0",
      "model_name": "FloatSliderModel",
      "state": {
       "description": "x0",
       "layout": "IPY_MODEL_91a569f918d3432a8db656f87636f685",
       "max": 1040,
       "step": 0.01,
       "style": "IPY_MODEL_5777c2fbbb8a47cf937e39afdd874506",
       "value": 528.380291398653
      }
     },
     "744cf9feb35946a1acfb43d6bd44a057": {
      "model_module": "jupyter-matplotlib",
      "model_module_version": "^0.8.2",
      "model_name": "ToolbarModel",
      "state": {
       "layout": "IPY_MODEL_9de0e1b038e7478abdf610e11d3b086f",
       "toolitems": [
        [
         "Home",
         "Reset original view",
         "home",
         "home"
        ],
        [
         "Back",
         "Back to  previous view",
         "arrow-left",
         "back"
        ],
        [
         "Forward",
         "Forward to next view",
         "arrow-right",
         "forward"
        ],
        [
         "Pan",
         "Pan axes with left mouse, zoom with right",
         "arrows",
         "pan"
        ],
        [
         "Zoom",
         "Zoom to rectangle",
         "square-o",
         "zoom"
        ],
        [
         "Download",
         "Download plot",
         "floppy-o",
         "save_figure"
        ]
       ]
      }
     },
     "74b9355b28134b5d888037e746e90df2": {
      "model_module": "@jupyter-widgets/output",
      "model_module_version": "1.0.0",
      "model_name": "OutputModel",
      "state": {
       "layout": "IPY_MODEL_a3ca4bdacf384c8fb6a745a6550dc384"
      }
     },
     "753e25d6d8b340c9b748232b873da7de": {
      "model_module": "@jupyter-widgets/base",
      "model_module_version": "1.2.0",
      "model_name": "LayoutModel",
      "state": {}
     },
     "758c5456701f4d769fe5184655fc96df": {
      "model_module": "@jupyter-widgets/base",
      "model_module_version": "1.2.0",
      "model_name": "LayoutModel",
      "state": {}
     },
     "76145fddbc3f4eeeb807f908c720da93": {
      "model_module": "@jupyter-widgets/controls",
      "model_module_version": "1.5.0",
      "model_name": "FloatSliderModel",
      "state": {
       "description": "x0",
       "layout": "IPY_MODEL_b116a3f4a139404ea712e9e8f1bf0ce5",
       "max": 1040,
       "step": 0.01,
       "style": "IPY_MODEL_12ec70ecda454503982327b6f6a7df85",
       "value": 528.380291398653
      }
     },
     "767dfd7e61ee4595b3f0eabc38032506": {
      "model_module": "@jupyter-widgets/base",
      "model_module_version": "1.2.0",
      "model_name": "LayoutModel",
      "state": {}
     },
     "776f6a3cf6784fc99f82a98e3ec1e767": {
      "model_module": "@jupyter-widgets/controls",
      "model_module_version": "1.5.0",
      "model_name": "SliderStyleModel",
      "state": {
       "description_width": ""
      }
     },
     "78a144603e924a91b0db096cb40def5b": {
      "model_module": "@jupyter-widgets/output",
      "model_module_version": "1.0.0",
      "model_name": "OutputModel",
      "state": {
       "layout": "IPY_MODEL_1694fd3437a34804a3c9031b93f869f9"
      }
     },
     "791683cd87f243dfa650a516640e2c40": {
      "model_module": "@jupyter-widgets/controls",
      "model_module_version": "1.5.0",
      "model_name": "FloatSliderModel",
      "state": {
       "description": "alpha",
       "layout": "IPY_MODEL_d00d7b1457b9484db82af90abd12b808",
       "max": 360,
       "step": 0.01,
       "style": "IPY_MODEL_e032a11f55ca405f8246310d45b59fec",
       "value": 170.6650227707358
      }
     },
     "79722017e04441e699802bb3de58266c": {
      "model_module": "@jupyter-widgets/controls",
      "model_module_version": "1.5.0",
      "model_name": "SliderStyleModel",
      "state": {
       "description_width": ""
      }
     },
     "7974dc98fd7f4775a804ed0717ba2739": {
      "model_module": "jupyter-matplotlib",
      "model_module_version": "^0.8.2",
      "model_name": "ToolbarModel",
      "state": {
       "layout": "IPY_MODEL_577682cbd52e4e03a28679b5eabd50c9",
       "toolitems": [
        [
         "Home",
         "Reset original view",
         "home",
         "home"
        ],
        [
         "Back",
         "Back to  previous view",
         "arrow-left",
         "back"
        ],
        [
         "Forward",
         "Forward to next view",
         "arrow-right",
         "forward"
        ],
        [
         "Pan",
         "Pan axes with left mouse, zoom with right",
         "arrows",
         "pan"
        ],
        [
         "Zoom",
         "Zoom to rectangle",
         "square-o",
         "zoom"
        ],
        [
         "Download",
         "Download plot",
         "floppy-o",
         "save_figure"
        ]
       ]
      }
     },
     "7b10b59f689a4985b7a3e27d791a1c4e": {
      "model_module": "@jupyter-widgets/controls",
      "model_module_version": "1.5.0",
      "model_name": "SliderStyleModel",
      "state": {
       "description_width": ""
      }
     },
     "7b9e0454478d40e5ac136f2de469ade2": {
      "model_module": "@jupyter-widgets/controls",
      "model_module_version": "1.5.0",
      "model_name": "VBoxModel",
      "state": {
       "_dom_classes": [
        "widget-interact"
       ],
       "children": [
        "IPY_MODEL_5f774c31bdd74cfaab1f898fe87a534e",
        "IPY_MODEL_57a5a3bf2fd34263941d9a98613095b2",
        "IPY_MODEL_9f3e4929b39547efa5dbded534505100",
        "IPY_MODEL_ec71ddc534f3476faff0ba707efeccd3",
        "IPY_MODEL_78a144603e924a91b0db096cb40def5b"
       ],
       "layout": "IPY_MODEL_4315b2b02d80491dabbde349658205ab"
      }
     },
     "7c8b12ae3ab0490fb57d3c5b7db24112": {
      "model_module": "@jupyter-widgets/controls",
      "model_module_version": "1.5.0",
      "model_name": "SliderStyleModel",
      "state": {
       "description_width": ""
      }
     },
     "7e53fb5e438641a8bbaf00ebd5e3ce8a": {
      "model_module": "@jupyter-widgets/base",
      "model_module_version": "1.2.0",
      "model_name": "LayoutModel",
      "state": {}
     },
     "7e5fbd0f216c4e4a904e00f6b24b8111": {
      "model_module": "jupyter-matplotlib",
      "model_module_version": "^0.8.2",
      "model_name": "ToolbarModel",
      "state": {
       "layout": "IPY_MODEL_8c5e7b94c344402e80d646e7df92dd11",
       "toolitems": [
        [
         "Home",
         "Reset original view",
         "home",
         "home"
        ],
        [
         "Back",
         "Back to  previous view",
         "arrow-left",
         "back"
        ],
        [
         "Forward",
         "Forward to next view",
         "arrow-right",
         "forward"
        ],
        [
         "Pan",
         "Pan axes with left mouse, zoom with right",
         "arrows",
         "pan"
        ],
        [
         "Zoom",
         "Zoom to rectangle",
         "square-o",
         "zoom"
        ],
        [
         "Download",
         "Download plot",
         "floppy-o",
         "save_figure"
        ]
       ]
      }
     },
     "7f878d5cb47945aab89da196015b4667": {
      "model_module": "jupyter-matplotlib",
      "model_module_version": "^0.8.2",
      "model_name": "ToolbarModel",
      "state": {
       "layout": "IPY_MODEL_58734cf450b94cdca745af1c9531d2ff",
       "toolitems": [
        [
         "Home",
         "Reset original view",
         "home",
         "home"
        ],
        [
         "Back",
         "Back to  previous view",
         "arrow-left",
         "back"
        ],
        [
         "Forward",
         "Forward to next view",
         "arrow-right",
         "forward"
        ],
        [
         "Pan",
         "Pan axes with left mouse, zoom with right",
         "arrows",
         "pan"
        ],
        [
         "Zoom",
         "Zoom to rectangle",
         "square-o",
         "zoom"
        ],
        [
         "Download",
         "Download plot",
         "floppy-o",
         "save_figure"
        ]
       ]
      }
     },
     "7f9615cd58ea4e219df3eda6c64e764f": {
      "model_module": "@jupyter-widgets/base",
      "model_module_version": "1.2.0",
      "model_name": "LayoutModel",
      "state": {}
     },
     "7f988eca06ba46728cc6002598edb06b": {
      "model_module": "@jupyter-widgets/base",
      "model_module_version": "1.2.0",
      "model_name": "LayoutModel",
      "state": {}
     },
     "7fb76575451f4800815c649c149ec7e7": {
      "model_module": "@jupyter-widgets/base",
      "model_module_version": "1.2.0",
      "model_name": "LayoutModel",
      "state": {}
     },
     "7fe027cadf1d4ceea8028bfdd69a975c": {
      "model_module": "@jupyter-widgets/base",
      "model_module_version": "1.2.0",
      "model_name": "LayoutModel",
      "state": {}
     },
     "7ff74c3c2687498597c5a55b45f108df": {
      "model_module": "@jupyter-widgets/controls",
      "model_module_version": "1.5.0",
      "model_name": "SliderStyleModel",
      "state": {
       "description_width": ""
      }
     },
     "8046cdbdc6c7418ab37f0def170f34ce": {
      "model_module": "@jupyter-widgets/base",
      "model_module_version": "1.2.0",
      "model_name": "LayoutModel",
      "state": {}
     },
     "817fa1192d674459a43ff824998d6a1a": {
      "model_module": "jupyter-matplotlib",
      "model_module_version": "^0.8.2",
      "model_name": "ToolbarModel",
      "state": {
       "layout": "IPY_MODEL_994685dc238d42ebae4447fc1826e739",
       "toolitems": [
        [
         "Home",
         "Reset original view",
         "home",
         "home"
        ],
        [
         "Back",
         "Back to  previous view",
         "arrow-left",
         "back"
        ],
        [
         "Forward",
         "Forward to next view",
         "arrow-right",
         "forward"
        ],
        [
         "Pan",
         "Pan axes with left mouse, zoom with right",
         "arrows",
         "pan"
        ],
        [
         "Zoom",
         "Zoom to rectangle",
         "square-o",
         "zoom"
        ],
        [
         "Download",
         "Download plot",
         "floppy-o",
         "save_figure"
        ]
       ]
      }
     },
     "81cfa0dc805f468eab8b8f9c60fe6bba": {
      "model_module": "jupyter-matplotlib",
      "model_module_version": "^0.8.2",
      "model_name": "MPLCanvasModel",
      "state": {
       "_figure_label": "Figure 2",
       "_height": 800,
       "_width": 1000,
       "layout": "IPY_MODEL_6c41a82c7fe746c9b9731cf447a3c2f5",
       "toolbar": "IPY_MODEL_a6daf25ef9524f31931260b1726cb9cc",
       "toolbar_position": "left"
      }
     },
     "820f2fe41f7b458480cafe7bbdf227c0": {
      "model_module": "@jupyter-widgets/controls",
      "model_module_version": "1.5.0",
      "model_name": "SliderStyleModel",
      "state": {
       "description_width": ""
      }
     },
     "8223f2388e3940e7bb6708d0a53ee2e7": {
      "model_module": "jupyter-matplotlib",
      "model_module_version": "^0.8.2",
      "model_name": "ToolbarModel",
      "state": {
       "layout": "IPY_MODEL_9b453c471ebf46afae4c14da936fd621",
       "toolitems": [
        [
         "Home",
         "Reset original view",
         "home",
         "home"
        ],
        [
         "Back",
         "Back to  previous view",
         "arrow-left",
         "back"
        ],
        [
         "Forward",
         "Forward to next view",
         "arrow-right",
         "forward"
        ],
        [
         "Pan",
         "Pan axes with left mouse, zoom with right",
         "arrows",
         "pan"
        ],
        [
         "Zoom",
         "Zoom to rectangle",
         "square-o",
         "zoom"
        ],
        [
         "Download",
         "Download plot",
         "floppy-o",
         "save_figure"
        ]
       ]
      }
     },
     "82a91284f891486aa332196ed6b88ef1": {
      "model_module": "@jupyter-widgets/base",
      "model_module_version": "1.2.0",
      "model_name": "LayoutModel",
      "state": {}
     },
     "83925573be234f23ba335d2a92aef911": {
      "model_module": "@jupyter-widgets/controls",
      "model_module_version": "1.5.0",
      "model_name": "VBoxModel",
      "state": {
       "_dom_classes": [
        "widget-interact"
       ],
       "children": [
        "IPY_MODEL_00c5eefc4d1e47a4862775c926bb9714",
        "IPY_MODEL_09c9d4ed82434c1fa9ab88f03973fafc",
        "IPY_MODEL_08ee928cba794fce820e02c4e14f0051",
        "IPY_MODEL_e2955af951714e3287209fefa6d4e8aa",
        "IPY_MODEL_d66d835ff5c046e4a93719ad75d30513"
       ],
       "layout": "IPY_MODEL_2c901fe22d9845ceaa36e7269d1c063b"
      }
     },
     "840c000d669b4988aa4d0d2f8e2174d2": {
      "model_module": "@jupyter-widgets/controls",
      "model_module_version": "1.5.0",
      "model_name": "SliderStyleModel",
      "state": {
       "description_width": ""
      }
     },
     "84a83ceb38f04340a23532146c71f24d": {
      "model_module": "jupyter-matplotlib",
      "model_module_version": "^0.8.2",
      "model_name": "ToolbarModel",
      "state": {
       "layout": "IPY_MODEL_61113d39c65847ee914a8e60b73ec2a8",
       "toolitems": [
        [
         "Home",
         "Reset original view",
         "home",
         "home"
        ],
        [
         "Back",
         "Back to  previous view",
         "arrow-left",
         "back"
        ],
        [
         "Forward",
         "Forward to next view",
         "arrow-right",
         "forward"
        ],
        [
         "Pan",
         "Pan axes with left mouse, zoom with right",
         "arrows",
         "pan"
        ],
        [
         "Zoom",
         "Zoom to rectangle",
         "square-o",
         "zoom"
        ],
        [
         "Download",
         "Download plot",
         "floppy-o",
         "save_figure"
        ]
       ]
      }
     },
     "8654cb0cb4584c58afdd912297805027": {
      "model_module": "@jupyter-widgets/controls",
      "model_module_version": "1.5.0",
      "model_name": "SliderStyleModel",
      "state": {
       "description_width": ""
      }
     },
     "865737138d424d3aa5c23caa8d5fc486": {
      "model_module": "jupyter-matplotlib",
      "model_module_version": "^0.8.2",
      "model_name": "ToolbarModel",
      "state": {
       "layout": "IPY_MODEL_6b4249ca7adb46d29fad86d7cbf124be",
       "toolitems": [
        [
         "Home",
         "Reset original view",
         "home",
         "home"
        ],
        [
         "Back",
         "Back to  previous view",
         "arrow-left",
         "back"
        ],
        [
         "Forward",
         "Forward to next view",
         "arrow-right",
         "forward"
        ],
        [
         "Pan",
         "Pan axes with left mouse, zoom with right",
         "arrows",
         "pan"
        ],
        [
         "Zoom",
         "Zoom to rectangle",
         "square-o",
         "zoom"
        ],
        [
         "Download",
         "Download plot",
         "floppy-o",
         "save_figure"
        ]
       ]
      }
     },
     "86ef3ef5fb3f462c9a751cedfabc8be9": {
      "model_module": "@jupyter-widgets/controls",
      "model_module_version": "1.5.0",
      "model_name": "VBoxModel",
      "state": {
       "_dom_classes": [
        "widget-interact"
       ],
       "children": [
        "IPY_MODEL_e0f103bd87a642a2b4ee9b84905e70ce",
        "IPY_MODEL_fefdd4756e724fb7ad28bbf0b878044e",
        "IPY_MODEL_7328eaecb0df43229c7f03d0ee76db12",
        "IPY_MODEL_bd2720fec04a4f27abf778a6c35f1963",
        "IPY_MODEL_1cc79a1eb6b64a8f84794e15c47927de"
       ],
       "layout": "IPY_MODEL_94d74ed2cb9d4815996014faf8bb58fb"
      }
     },
     "87a75629349c48bcb66d1bd640c6b118": {
      "model_module": "@jupyter-widgets/controls",
      "model_module_version": "1.5.0",
      "model_name": "SliderStyleModel",
      "state": {
       "description_width": ""
      }
     },
     "87c546ca176841d387947d429339e973": {
      "model_module": "jupyter-matplotlib",
      "model_module_version": "^0.8.2",
      "model_name": "ToolbarModel",
      "state": {
       "layout": "IPY_MODEL_b0819197ac454cae98d2ecff4fe5a413",
       "toolitems": [
        [
         "Home",
         "Reset original view",
         "home",
         "home"
        ],
        [
         "Back",
         "Back to  previous view",
         "arrow-left",
         "back"
        ],
        [
         "Forward",
         "Forward to next view",
         "arrow-right",
         "forward"
        ],
        [
         "Pan",
         "Pan axes with left mouse, zoom with right",
         "arrows",
         "pan"
        ],
        [
         "Zoom",
         "Zoom to rectangle",
         "square-o",
         "zoom"
        ],
        [
         "Download",
         "Download plot",
         "floppy-o",
         "save_figure"
        ]
       ]
      }
     },
     "882c36100400448a95535b36d5534a74": {
      "model_module": "@jupyter-widgets/controls",
      "model_module_version": "1.5.0",
      "model_name": "SliderStyleModel",
      "state": {
       "description_width": ""
      }
     },
     "8875504b7f654919bb6872d4b77bebe7": {
      "model_module": "@jupyter-widgets/controls",
      "model_module_version": "1.5.0",
      "model_name": "FloatSliderModel",
      "state": {
       "description": "alpha",
       "layout": "IPY_MODEL_5e8ba04894c34aa0834dd4224afdcf10",
       "max": 360,
       "step": 0.01,
       "style": "IPY_MODEL_7b10b59f689a4985b7a3e27d791a1c4e"
      }
     },
     "89360754428245e3a05cbae0997519e7": {
      "model_module": "@jupyter-widgets/controls",
      "model_module_version": "1.5.0",
      "model_name": "SliderStyleModel",
      "state": {
       "description_width": ""
      }
     },
     "894b3d5dca794011a0315b130731832b": {
      "model_module": "@jupyter-widgets/base",
      "model_module_version": "1.2.0",
      "model_name": "LayoutModel",
      "state": {}
     },
     "89b497ae99e14b91aeec02df82f16082": {
      "model_module": "@jupyter-widgets/base",
      "model_module_version": "1.2.0",
      "model_name": "LayoutModel",
      "state": {}
     },
     "8a0a7cdf56ce4624ab56d3207cebe03a": {
      "model_module": "@jupyter-widgets/controls",
      "model_module_version": "1.5.0",
      "model_name": "FloatSliderModel",
      "state": {
       "description": "alpha",
       "layout": "IPY_MODEL_8f0ef6a669cc48f39a10bbf58dcd7565",
       "max": 360,
       "step": 0.01,
       "style": "IPY_MODEL_87a75629349c48bcb66d1bd640c6b118"
      }
     },
     "8b63634923b24110b77be217defa7e6e": {
      "model_module": "@jupyter-widgets/base",
      "model_module_version": "1.2.0",
      "model_name": "LayoutModel",
      "state": {}
     },
     "8c4be18228644666a48f8763bb3aec59": {
      "model_module": "@jupyter-widgets/base",
      "model_module_version": "1.2.0",
      "model_name": "LayoutModel",
      "state": {}
     },
     "8c5e7b94c344402e80d646e7df92dd11": {
      "model_module": "@jupyter-widgets/base",
      "model_module_version": "1.2.0",
      "model_name": "LayoutModel",
      "state": {}
     },
     "8cb1473372f847bfa224e84f5a948e4e": {
      "model_module": "@jupyter-widgets/base",
      "model_module_version": "1.2.0",
      "model_name": "LayoutModel",
      "state": {}
     },
     "8cf8c6b4e87a47aab8933f1855ad818f": {
      "model_module": "@jupyter-widgets/base",
      "model_module_version": "1.2.0",
      "model_name": "LayoutModel",
      "state": {}
     },
     "8de7100f327548aab0615624d00bd550": {
      "model_module": "@jupyter-widgets/controls",
      "model_module_version": "1.5.0",
      "model_name": "FloatSliderModel",
      "state": {
       "description": "scale",
       "layout": "IPY_MODEL_aa40ae77dec2451d97a56c1510f9edcb",
       "max": 25,
       "min": 5,
       "step": 0.01,
       "style": "IPY_MODEL_17d7c8bfb7e04a6b923137d5c2e499ed",
       "value": 18.711655449170152
      }
     },
     "8efef4cca6f54aa6a4cb4a01dc0f0c5a": {
      "model_module": "jupyter-matplotlib",
      "model_module_version": "^0.8.2",
      "model_name": "ToolbarModel",
      "state": {
       "layout": "IPY_MODEL_aa58ea10d6bb4616bdd893f22765f8cb",
       "toolitems": [
        [
         "Home",
         "Reset original view",
         "home",
         "home"
        ],
        [
         "Back",
         "Back to  previous view",
         "arrow-left",
         "back"
        ],
        [
         "Forward",
         "Forward to next view",
         "arrow-right",
         "forward"
        ],
        [
         "Pan",
         "Pan axes with left mouse, zoom with right",
         "arrows",
         "pan"
        ],
        [
         "Zoom",
         "Zoom to rectangle",
         "square-o",
         "zoom"
        ],
        [
         "Download",
         "Download plot",
         "floppy-o",
         "save_figure"
        ]
       ]
      }
     },
     "8f0ddeacccb545e39e1e1724c8e9ad01": {
      "model_module": "@jupyter-widgets/base",
      "model_module_version": "1.2.0",
      "model_name": "LayoutModel",
      "state": {}
     },
     "8f0ef6a669cc48f39a10bbf58dcd7565": {
      "model_module": "@jupyter-widgets/base",
      "model_module_version": "1.2.0",
      "model_name": "LayoutModel",
      "state": {}
     },
     "8fb06f77bd834ff9971bbf90ca263ddd": {
      "model_module": "@jupyter-widgets/controls",
      "model_module_version": "1.5.0",
      "model_name": "SliderStyleModel",
      "state": {
       "description_width": ""
      }
     },
     "90ec234df63543da9b0a03a3acb18444": {
      "model_module": "@jupyter-widgets/controls",
      "model_module_version": "1.5.0",
      "model_name": "SliderStyleModel",
      "state": {
       "description_width": ""
      }
     },
     "91a569f918d3432a8db656f87636f685": {
      "model_module": "@jupyter-widgets/base",
      "model_module_version": "1.2.0",
      "model_name": "LayoutModel",
      "state": {}
     },
     "9351a22ddbda43efbe3fec7f73c7966c": {
      "model_module": "@jupyter-widgets/output",
      "model_module_version": "1.0.0",
      "model_name": "OutputModel",
      "state": {
       "layout": "IPY_MODEL_2abd5d6780a746508e27355b468d7f61"
      }
     },
     "93b01ce27f9d45639f137af9700d7985": {
      "model_module": "@jupyter-widgets/controls",
      "model_module_version": "1.5.0",
      "model_name": "VBoxModel",
      "state": {
       "_dom_classes": [
        "widget-interact"
       ],
       "children": [
        "IPY_MODEL_6d788d3f60154c5187c405f719997cfd",
        "IPY_MODEL_b567ec393b7140159dfdebc123ccee20"
       ],
       "layout": "IPY_MODEL_e02a1e07b6144cfa8833762fb03b45d9"
      }
     },
     "94d74ed2cb9d4815996014faf8bb58fb": {
      "model_module": "@jupyter-widgets/base",
      "model_module_version": "1.2.0",
      "model_name": "LayoutModel",
      "state": {}
     },
     "9677e355ea39467799a885344d81e2fe": {
      "model_module": "@jupyter-widgets/controls",
      "model_module_version": "1.5.0",
      "model_name": "FloatSliderModel",
      "state": {
       "description": "gamma",
       "layout": "IPY_MODEL_0b2b387574c645bfafa766b1344611e7",
       "max": 1,
       "min": 0.1,
       "step": 0.01,
       "style": "IPY_MODEL_2e4dc27548b2490e91356f0dfffb2495",
       "value": 0.82
      }
     },
     "994685dc238d42ebae4447fc1826e739": {
      "model_module": "@jupyter-widgets/base",
      "model_module_version": "1.2.0",
      "model_name": "LayoutModel",
      "state": {}
     },
     "99978f0014ab498499a46e257be03690": {
      "model_module": "@jupyter-widgets/base",
      "model_module_version": "1.2.0",
      "model_name": "LayoutModel",
      "state": {}
     },
     "9a1ad1635a5c4c38bf32bb1c0fb8e621": {
      "model_module": "@jupyter-widgets/base",
      "model_module_version": "1.2.0",
      "model_name": "LayoutModel",
      "state": {}
     },
     "9aa2c200da284b109975aaaa3da14227": {
      "model_module": "jupyter-matplotlib",
      "model_module_version": "^0.8.2",
      "model_name": "ToolbarModel",
      "state": {
       "layout": "IPY_MODEL_7fe027cadf1d4ceea8028bfdd69a975c",
       "toolitems": [
        [
         "Home",
         "Reset original view",
         "home",
         "home"
        ],
        [
         "Back",
         "Back to  previous view",
         "arrow-left",
         "back"
        ],
        [
         "Forward",
         "Forward to next view",
         "arrow-right",
         "forward"
        ],
        [
         "Pan",
         "Pan axes with left mouse, zoom with right",
         "arrows",
         "pan"
        ],
        [
         "Zoom",
         "Zoom to rectangle",
         "square-o",
         "zoom"
        ],
        [
         "Download",
         "Download plot",
         "floppy-o",
         "save_figure"
        ]
       ]
      }
     },
     "9b453c471ebf46afae4c14da936fd621": {
      "model_module": "@jupyter-widgets/base",
      "model_module_version": "1.2.0",
      "model_name": "LayoutModel",
      "state": {}
     },
     "9cec250e1bf24c64bcdcd6decbea9e07": {
      "model_module": "@jupyter-widgets/controls",
      "model_module_version": "1.5.0",
      "model_name": "FloatSliderModel",
      "state": {
       "description": "x0",
       "layout": "IPY_MODEL_894b3d5dca794011a0315b130731832b",
       "max": 1040,
       "step": 0.01,
       "style": "IPY_MODEL_0d155bfe6d74438fb2f59135e857489c",
       "value": 528.380291398653
      }
     },
     "9de0e1b038e7478abdf610e11d3b086f": {
      "model_module": "@jupyter-widgets/base",
      "model_module_version": "1.2.0",
      "model_name": "LayoutModel",
      "state": {}
     },
     "9f3e4929b39547efa5dbded534505100": {
      "model_module": "@jupyter-widgets/controls",
      "model_module_version": "1.5.0",
      "model_name": "FloatSliderModel",
      "state": {
       "description": "x0",
       "layout": "IPY_MODEL_62f07f776c3b4a28a8e58780c644f8c6",
       "max": 1040,
       "step": 0.01,
       "style": "IPY_MODEL_ba6f498231924cedb62a771c3f8bbab3",
       "value": 528.380291398653
      }
     },
     "9f5a8307011a41a2a6f8442a74e98321": {
      "model_module": "@jupyter-widgets/base",
      "model_module_version": "1.2.0",
      "model_name": "LayoutModel",
      "state": {}
     },
     "a13872d8152d4facbc48661bd1e80a8c": {
      "model_module": "jupyter-matplotlib",
      "model_module_version": "^0.8.2",
      "model_name": "ToolbarModel",
      "state": {
       "layout": "IPY_MODEL_e34c2c59d2a74c6d9f80d8a461b2cfc5",
       "toolitems": [
        [
         "Home",
         "Reset original view",
         "home",
         "home"
        ],
        [
         "Back",
         "Back to  previous view",
         "arrow-left",
         "back"
        ],
        [
         "Forward",
         "Forward to next view",
         "arrow-right",
         "forward"
        ],
        [
         "Pan",
         "Pan axes with left mouse, zoom with right",
         "arrows",
         "pan"
        ],
        [
         "Zoom",
         "Zoom to rectangle",
         "square-o",
         "zoom"
        ],
        [
         "Download",
         "Download plot",
         "floppy-o",
         "save_figure"
        ]
       ]
      }
     },
     "a13f91d7ab12412ca332f3ad40bd3d3d": {
      "model_module": "@jupyter-widgets/base",
      "model_module_version": "1.2.0",
      "model_name": "LayoutModel",
      "state": {}
     },
     "a1db79b3705041008112c8f401712291": {
      "model_module": "@jupyter-widgets/base",
      "model_module_version": "1.2.0",
      "model_name": "LayoutModel",
      "state": {}
     },
     "a20f947f0b8141ada31bd5f216e542fa": {
      "model_module": "@jupyter-widgets/output",
      "model_module_version": "1.0.0",
      "model_name": "OutputModel",
      "state": {
       "layout": "IPY_MODEL_f8a580a7964745ed95b23fbb3a3d230f"
      }
     },
     "a2c95931fa134cac9724665a78e95e23": {
      "model_module": "@jupyter-widgets/controls",
      "model_module_version": "1.5.0",
      "model_name": "SliderStyleModel",
      "state": {
       "description_width": ""
      }
     },
     "a309f9728b4047cdac1dc7512f250beb": {
      "model_module": "@jupyter-widgets/controls",
      "model_module_version": "1.5.0",
      "model_name": "SliderStyleModel",
      "state": {
       "description_width": ""
      }
     },
     "a387a7cdfa9642bda7d2ea556dd3e0dc": {
      "model_module": "@jupyter-widgets/base",
      "model_module_version": "1.2.0",
      "model_name": "LayoutModel",
      "state": {}
     },
     "a3afe4a998b444d79f1364bf0eaa9ec5": {
      "model_module": "jupyter-matplotlib",
      "model_module_version": "^0.8.2",
      "model_name": "ToolbarModel",
      "state": {
       "layout": "IPY_MODEL_23bd903501204ad0997ac2924c520190",
       "toolitems": [
        [
         "Home",
         "Reset original view",
         "home",
         "home"
        ],
        [
         "Back",
         "Back to  previous view",
         "arrow-left",
         "back"
        ],
        [
         "Forward",
         "Forward to next view",
         "arrow-right",
         "forward"
        ],
        [
         "Pan",
         "Pan axes with left mouse, zoom with right",
         "arrows",
         "pan"
        ],
        [
         "Zoom",
         "Zoom to rectangle",
         "square-o",
         "zoom"
        ],
        [
         "Download",
         "Download plot",
         "floppy-o",
         "save_figure"
        ]
       ]
      }
     },
     "a3c277d9ef6c40e8ba47592791fb81a4": {
      "model_module": "@jupyter-widgets/output",
      "model_module_version": "1.0.0",
      "model_name": "OutputModel",
      "state": {
       "layout": "IPY_MODEL_29b702218dd444839f2c0a0a941d54f5"
      }
     },
     "a3ca4bdacf384c8fb6a745a6550dc384": {
      "model_module": "@jupyter-widgets/base",
      "model_module_version": "1.2.0",
      "model_name": "LayoutModel",
      "state": {}
     },
     "a6daf25ef9524f31931260b1726cb9cc": {
      "model_module": "jupyter-matplotlib",
      "model_module_version": "^0.8.2",
      "model_name": "ToolbarModel",
      "state": {
       "layout": "IPY_MODEL_cf284eadb08e4c5bb872eae56f15a2dd",
       "toolitems": [
        [
         "Home",
         "Reset original view",
         "home",
         "home"
        ],
        [
         "Back",
         "Back to  previous view",
         "arrow-left",
         "back"
        ],
        [
         "Forward",
         "Forward to next view",
         "arrow-right",
         "forward"
        ],
        [
         "Pan",
         "Pan axes with left mouse, zoom with right",
         "arrows",
         "pan"
        ],
        [
         "Zoom",
         "Zoom to rectangle",
         "square-o",
         "zoom"
        ],
        [
         "Download",
         "Download plot",
         "floppy-o",
         "save_figure"
        ]
       ]
      }
     },
     "a70e621dc1fb49018235cb1728cc52f0": {
      "model_module": "@jupyter-widgets/base",
      "model_module_version": "1.2.0",
      "model_name": "LayoutModel",
      "state": {}
     },
     "a8608148e69c40c0aebd504878559f80": {
      "model_module": "jupyter-matplotlib",
      "model_module_version": "^0.8.2",
      "model_name": "ToolbarModel",
      "state": {
       "layout": "IPY_MODEL_8c4be18228644666a48f8763bb3aec59",
       "toolitems": [
        [
         "Home",
         "Reset original view",
         "home",
         "home"
        ],
        [
         "Back",
         "Back to  previous view",
         "arrow-left",
         "back"
        ],
        [
         "Forward",
         "Forward to next view",
         "arrow-right",
         "forward"
        ],
        [
         "Pan",
         "Pan axes with left mouse, zoom with right",
         "arrows",
         "pan"
        ],
        [
         "Zoom",
         "Zoom to rectangle",
         "square-o",
         "zoom"
        ],
        [
         "Download",
         "Download plot",
         "floppy-o",
         "save_figure"
        ]
       ]
      }
     },
     "a882e382657c426e8b0d87da8bcb9941": {
      "model_module": "@jupyter-widgets/base",
      "model_module_version": "1.2.0",
      "model_name": "LayoutModel",
      "state": {}
     },
     "a9efdad9b42d472c946d6cd13eef73fb": {
      "model_module": "jupyter-matplotlib",
      "model_module_version": "^0.8.2",
      "model_name": "ToolbarModel",
      "state": {
       "layout": "IPY_MODEL_cfb280e4a29c400197711dee357d36c4",
       "toolitems": [
        [
         "Home",
         "Reset original view",
         "home",
         "home"
        ],
        [
         "Back",
         "Back to  previous view",
         "arrow-left",
         "back"
        ],
        [
         "Forward",
         "Forward to next view",
         "arrow-right",
         "forward"
        ],
        [
         "Pan",
         "Pan axes with left mouse, zoom with right",
         "arrows",
         "pan"
        ],
        [
         "Zoom",
         "Zoom to rectangle",
         "square-o",
         "zoom"
        ],
        [
         "Download",
         "Download plot",
         "floppy-o",
         "save_figure"
        ]
       ]
      }
     },
     "aa40ae77dec2451d97a56c1510f9edcb": {
      "model_module": "@jupyter-widgets/base",
      "model_module_version": "1.2.0",
      "model_name": "LayoutModel",
      "state": {}
     },
     "aa461f8b03364158be5249705889a1c4": {
      "model_module": "@jupyter-widgets/base",
      "model_module_version": "1.2.0",
      "model_name": "LayoutModel",
      "state": {}
     },
     "aa58ea10d6bb4616bdd893f22765f8cb": {
      "model_module": "@jupyter-widgets/base",
      "model_module_version": "1.2.0",
      "model_name": "LayoutModel",
      "state": {}
     },
     "ac2f7a46ae534726bafd9d0ba5fd3247": {
      "model_module": "@jupyter-widgets/base",
      "model_module_version": "1.2.0",
      "model_name": "LayoutModel",
      "state": {}
     },
     "ace9e4c3b7004b418952a4c5d6e12fd4": {
      "model_module": "@jupyter-widgets/output",
      "model_module_version": "1.0.0",
      "model_name": "OutputModel",
      "state": {
       "layout": "IPY_MODEL_643f953d139544c39d832455b2b29f68"
      }
     },
     "ad39b114b9aa41b4aa1259761b68f797": {
      "model_module": "@jupyter-widgets/base",
      "model_module_version": "1.2.0",
      "model_name": "LayoutModel",
      "state": {}
     },
     "ad4f7e1fd6c94567a23bd421e98868c2": {
      "model_module": "@jupyter-widgets/base",
      "model_module_version": "1.2.0",
      "model_name": "LayoutModel",
      "state": {}
     },
     "ad84e8a9ca7f45deb07061fe2530383f": {
      "model_module": "@jupyter-widgets/base",
      "model_module_version": "1.2.0",
      "model_name": "LayoutModel",
      "state": {}
     },
     "adbcb728cabf42bbb0a928f5fcd50fa5": {
      "model_module": "@jupyter-widgets/base",
      "model_module_version": "1.2.0",
      "model_name": "LayoutModel",
      "state": {}
     },
     "ae792f42943f4e6bbe4ac5b84ce8c79b": {
      "model_module": "@jupyter-widgets/controls",
      "model_module_version": "1.5.0",
      "model_name": "VBoxModel",
      "state": {
       "_dom_classes": [
        "widget-interact"
       ],
       "children": [
        "IPY_MODEL_37e3950c9805405d9f9ab3768941a428",
        "IPY_MODEL_233f76eb695d45f3b4d3a5377919bae3",
        "IPY_MODEL_eb5e6e8c5f3447338cbf5f1f5d94303e",
        "IPY_MODEL_b1ff27f21bc541a782bd1701ac14110e",
        "IPY_MODEL_4b0e2b3ac0fd4c9a9628762e394f482c"
       ],
       "layout": "IPY_MODEL_d2522847c96d46b5ad1c00e60e96e2f0"
      }
     },
     "af1bfe3d2b064309bf54cbdee92ee46b": {
      "model_module": "@jupyter-widgets/base",
      "model_module_version": "1.2.0",
      "model_name": "LayoutModel",
      "state": {}
     },
     "af8a095ce2b94598a014b368a56303b5": {
      "model_module": "jupyter-matplotlib",
      "model_module_version": "^0.8.2",
      "model_name": "ToolbarModel",
      "state": {
       "layout": "IPY_MODEL_094c3eb1d4dd408680dead88a2001d0b",
       "toolitems": [
        [
         "Home",
         "Reset original view",
         "home",
         "home"
        ],
        [
         "Back",
         "Back to  previous view",
         "arrow-left",
         "back"
        ],
        [
         "Forward",
         "Forward to next view",
         "arrow-right",
         "forward"
        ],
        [
         "Pan",
         "Pan axes with left mouse, zoom with right",
         "arrows",
         "pan"
        ],
        [
         "Zoom",
         "Zoom to rectangle",
         "square-o",
         "zoom"
        ],
        [
         "Download",
         "Download plot",
         "floppy-o",
         "save_figure"
        ]
       ]
      }
     },
     "af96a5f9e1b94e2d84181f60f2b2756e": {
      "model_module": "@jupyter-widgets/base",
      "model_module_version": "1.2.0",
      "model_name": "LayoutModel",
      "state": {}
     },
     "b011adc8a2aa442ebd83c3b4aea0956d": {
      "model_module": "@jupyter-widgets/base",
      "model_module_version": "1.2.0",
      "model_name": "LayoutModel",
      "state": {}
     },
     "b0819197ac454cae98d2ecff4fe5a413": {
      "model_module": "@jupyter-widgets/base",
      "model_module_version": "1.2.0",
      "model_name": "LayoutModel",
      "state": {}
     },
     "b116a3f4a139404ea712e9e8f1bf0ce5": {
      "model_module": "@jupyter-widgets/base",
      "model_module_version": "1.2.0",
      "model_name": "LayoutModel",
      "state": {}
     },
     "b11a7520696344589ad3e4364e8b918a": {
      "model_module": "@jupyter-widgets/base",
      "model_module_version": "1.2.0",
      "model_name": "LayoutModel",
      "state": {}
     },
     "b11d793991474e6babdabae610a66b7c": {
      "model_module": "@jupyter-widgets/base",
      "model_module_version": "1.2.0",
      "model_name": "LayoutModel",
      "state": {}
     },
     "b1548453e2f04705acaf0fc3ce4898fe": {
      "model_module": "@jupyter-widgets/controls",
      "model_module_version": "1.5.0",
      "model_name": "SliderStyleModel",
      "state": {
       "description_width": ""
      }
     },
     "b1ff27f21bc541a782bd1701ac14110e": {
      "model_module": "@jupyter-widgets/controls",
      "model_module_version": "1.5.0",
      "model_name": "FloatSliderModel",
      "state": {
       "description": "y0",
       "layout": "IPY_MODEL_b20807050a304499809568638e60a7f6",
       "max": 880,
       "step": 0.01,
       "style": "IPY_MODEL_7ff74c3c2687498597c5a55b45f108df",
       "value": 431.37936074130306
      }
     },
     "b20807050a304499809568638e60a7f6": {
      "model_module": "@jupyter-widgets/base",
      "model_module_version": "1.2.0",
      "model_name": "LayoutModel",
      "state": {}
     },
     "b2e6ec3fbd314c7da0ab1dab88c65ee2": {
      "model_module": "@jupyter-widgets/base",
      "model_module_version": "1.2.0",
      "model_name": "LayoutModel",
      "state": {}
     },
     "b32c6cfbf8c94e9f89041fed13435c3c": {
      "model_module": "@jupyter-widgets/controls",
      "model_module_version": "1.5.0",
      "model_name": "VBoxModel",
      "state": {
       "_dom_classes": [
        "widget-interact"
       ],
       "children": [
        "IPY_MODEL_527e2b1274984fbc833e42b2f9aff793",
        "IPY_MODEL_791683cd87f243dfa650a516640e2c40",
        "IPY_MODEL_76145fddbc3f4eeeb807f908c720da93",
        "IPY_MODEL_daab0ed554ca4181bcf3d091a2f33541",
        "IPY_MODEL_9351a22ddbda43efbe3fec7f73c7966c"
       ],
       "layout": "IPY_MODEL_0fa17c35fb2c4a9aa5ecc6d6c678c7f5"
      }
     },
     "b4057310a4014037971598b6beceac93": {
      "model_module": "@jupyter-widgets/base",
      "model_module_version": "1.2.0",
      "model_name": "LayoutModel",
      "state": {}
     },
     "b54cfe6c2f8b4f649d07c03b4ce4d571": {
      "model_module": "@jupyter-widgets/controls",
      "model_module_version": "1.5.0",
      "model_name": "SliderStyleModel",
      "state": {
       "description_width": ""
      }
     },
     "b567ec393b7140159dfdebc123ccee20": {
      "model_module": "@jupyter-widgets/output",
      "model_module_version": "1.0.0",
      "model_name": "OutputModel",
      "state": {
       "layout": "IPY_MODEL_56fd730e866747ee9d6f7338ca82966d"
      }
     },
     "b6e4ba906ee14355ab34b1d089f88b8c": {
      "model_module": "@jupyter-widgets/controls",
      "model_module_version": "1.5.0",
      "model_name": "SliderStyleModel",
      "state": {
       "description_width": ""
      }
     },
     "b9fb94c78d114bb5958143f42f5a7b96": {
      "model_module": "@jupyter-widgets/base",
      "model_module_version": "1.2.0",
      "model_name": "LayoutModel",
      "state": {}
     },
     "ba6f498231924cedb62a771c3f8bbab3": {
      "model_module": "@jupyter-widgets/controls",
      "model_module_version": "1.5.0",
      "model_name": "SliderStyleModel",
      "state": {
       "description_width": ""
      }
     },
     "bb9dd4133e22495e9b924f94432a2556": {
      "model_module": "@jupyter-widgets/base",
      "model_module_version": "1.2.0",
      "model_name": "LayoutModel",
      "state": {}
     },
     "bcfe202a224e4992b962818f1cf84a75": {
      "model_module": "@jupyter-widgets/base",
      "model_module_version": "1.2.0",
      "model_name": "LayoutModel",
      "state": {}
     },
     "bd2720fec04a4f27abf778a6c35f1963": {
      "model_module": "@jupyter-widgets/controls",
      "model_module_version": "1.5.0",
      "model_name": "FloatSliderModel",
      "state": {
       "description": "y0",
       "layout": "IPY_MODEL_47eb5255588941e3b348fbf255dc0ef9",
       "max": 880,
       "step": 0.01,
       "style": "IPY_MODEL_63075b5ba457420292ab8f08a8a2c9d6",
       "value": 431.37936074130306
      }
     },
     "bd4564a4c3fe4299b7c8dac5c0c353a9": {
      "model_module": "jupyter-matplotlib",
      "model_module_version": "^0.8.2",
      "model_name": "ToolbarModel",
      "state": {
       "layout": "IPY_MODEL_2668503f53834d20acb9b6cc9b0fef99",
       "toolitems": [
        [
         "Home",
         "Reset original view",
         "home",
         "home"
        ],
        [
         "Back",
         "Back to  previous view",
         "arrow-left",
         "back"
        ],
        [
         "Forward",
         "Forward to next view",
         "arrow-right",
         "forward"
        ],
        [
         "Pan",
         "Pan axes with left mouse, zoom with right",
         "arrows",
         "pan"
        ],
        [
         "Zoom",
         "Zoom to rectangle",
         "square-o",
         "zoom"
        ],
        [
         "Download",
         "Download plot",
         "floppy-o",
         "save_figure"
        ]
       ]
      }
     },
     "bdcabe325847400b9cfca8852bac3325": {
      "model_module": "@jupyter-widgets/base",
      "model_module_version": "1.2.0",
      "model_name": "LayoutModel",
      "state": {}
     },
     "bebe8ee1a5e2485fb8e3ee763cdbeddb": {
      "model_module": "@jupyter-widgets/output",
      "model_module_version": "1.0.0",
      "model_name": "OutputModel",
      "state": {
       "layout": "IPY_MODEL_8b63634923b24110b77be217defa7e6e"
      }
     },
     "c20269b851c340dc8f2be4cc3aa2778a": {
      "model_module": "@jupyter-widgets/output",
      "model_module_version": "1.0.0",
      "model_name": "OutputModel",
      "state": {
       "layout": "IPY_MODEL_fe367345c81c492bb26f320687bb581f",
       "outputs": [
        {
         "ename": "AttributeError",
         "evalue": "'Projector' object has no attribute 'update_img'",
         "output_type": "error",
         "traceback": [
          "\u001b[0;31m---------------------------------------------------------------------------\u001b[0m",
          "\u001b[0;31mAttributeError\u001b[0m                            Traceback (most recent call last)",
          "\u001b[0;32m/usr/local/lib/python3.6/dist-packages/ipywidgets/widgets/interaction.py\u001b[0m in \u001b[0;36mupdate\u001b[0;34m(self, *args)\u001b[0m\n\u001b[1;32m    254\u001b[0m                     \u001b[0mvalue\u001b[0m \u001b[0;34m=\u001b[0m \u001b[0mwidget\u001b[0m\u001b[0;34m.\u001b[0m\u001b[0mget_interact_value\u001b[0m\u001b[0;34m(\u001b[0m\u001b[0;34m)\u001b[0m\u001b[0;34m\u001b[0m\u001b[0;34m\u001b[0m\u001b[0m\n\u001b[1;32m    255\u001b[0m                     \u001b[0mself\u001b[0m\u001b[0;34m.\u001b[0m\u001b[0mkwargs\u001b[0m\u001b[0;34m[\u001b[0m\u001b[0mwidget\u001b[0m\u001b[0;34m.\u001b[0m\u001b[0m_kwarg\u001b[0m\u001b[0;34m]\u001b[0m \u001b[0;34m=\u001b[0m \u001b[0mvalue\u001b[0m\u001b[0;34m\u001b[0m\u001b[0;34m\u001b[0m\u001b[0m\n\u001b[0;32m--> 256\u001b[0;31m                 \u001b[0mself\u001b[0m\u001b[0;34m.\u001b[0m\u001b[0mresult\u001b[0m \u001b[0;34m=\u001b[0m \u001b[0mself\u001b[0m\u001b[0;34m.\u001b[0m\u001b[0mf\u001b[0m\u001b[0;34m(\u001b[0m\u001b[0;34m**\u001b[0m\u001b[0mself\u001b[0m\u001b[0;34m.\u001b[0m\u001b[0mkwargs\u001b[0m\u001b[0;34m)\u001b[0m\u001b[0;34m\u001b[0m\u001b[0;34m\u001b[0m\u001b[0m\n\u001b[0m\u001b[1;32m    257\u001b[0m                 \u001b[0mshow_inline_matplotlib_plots\u001b[0m\u001b[0;34m(\u001b[0m\u001b[0;34m)\u001b[0m\u001b[0;34m\u001b[0m\u001b[0;34m\u001b[0m\u001b[0m\n\u001b[1;32m    258\u001b[0m                 \u001b[0;32mif\u001b[0m \u001b[0mself\u001b[0m\u001b[0;34m.\u001b[0m\u001b[0mauto_display\u001b[0m \u001b[0;32mand\u001b[0m \u001b[0mself\u001b[0m\u001b[0;34m.\u001b[0m\u001b[0mresult\u001b[0m \u001b[0;32mis\u001b[0m \u001b[0;32mnot\u001b[0m \u001b[0;32mNone\u001b[0m\u001b[0;34m:\u001b[0m\u001b[0;34m\u001b[0m\u001b[0;34m\u001b[0m\u001b[0m\n",
          "\u001b[0;32m~/Research/JupiterProjection/projector.py\u001b[0m in \u001b[0;36m<lambda>\u001b[0;34m(gamma)\u001b[0m\n\u001b[1;32m    630\u001b[0m \u001b[0;34m\u001b[0m\u001b[0m\n\u001b[1;32m    631\u001b[0m         \u001b[0mupdate_img\u001b[0m \u001b[0;34m=\u001b[0m \u001b[0;32mlambda\u001b[0m \u001b[0mgamma\u001b[0m\u001b[0;34m:\u001b[0m\u001b[0;31m \u001b[0m\u001b[0;31m\\\u001b[0m\u001b[0;34m\u001b[0m\u001b[0;34m\u001b[0m\u001b[0m\n\u001b[0;32m--> 632\u001b[0;31m             \u001b[0mself\u001b[0m\u001b[0;34m.\u001b[0m\u001b[0mupdate_img\u001b[0m\u001b[0;34m(\u001b[0m\u001b[0max\u001b[0m\u001b[0;34m,\u001b[0m \u001b[0mimg\u001b[0m\u001b[0;34m,\u001b[0m \u001b[0mgamma\u001b[0m\u001b[0;34m)\u001b[0m\u001b[0;34m\u001b[0m\u001b[0;34m\u001b[0m\u001b[0m\n\u001b[0m\u001b[1;32m    633\u001b[0m \u001b[0;34m\u001b[0m\u001b[0m\n\u001b[1;32m    634\u001b[0m         \u001b[0mupdate\u001b[0m \u001b[0;34m=\u001b[0m \u001b[0;32mlambda\u001b[0m \u001b[0mscale\u001b[0m\u001b[0;34m,\u001b[0m \u001b[0malpha\u001b[0m\u001b[0;34m,\u001b[0m \u001b[0mx0\u001b[0m\u001b[0;34m,\u001b[0m \u001b[0my0\u001b[0m\u001b[0;34m:\u001b[0m\u001b[0;31m \u001b[0m\u001b[0;31m\\\u001b[0m\u001b[0;34m\u001b[0m\u001b[0;34m\u001b[0m\u001b[0m\n",
          "\u001b[0;31mAttributeError\u001b[0m: 'Projector' object has no attribute 'update_img'"
         ]
        }
       ]
      }
     },
     "c2c5c374da6d4f0391344550dd5317b9": {
      "model_module": "@jupyter-widgets/controls",
      "model_module_version": "1.5.0",
      "model_name": "VBoxModel",
      "state": {
       "_dom_classes": [
        "widget-interact"
       ],
       "children": [
        "IPY_MODEL_22a0ea365640452b8e2e47ee9daeb4b4",
        "IPY_MODEL_8a0a7cdf56ce4624ab56d3207cebe03a",
        "IPY_MODEL_329ad46d463e48c7a85990fa8515b593",
        "IPY_MODEL_3a320dfa12fd4d7aab92cb8848e15562",
        "IPY_MODEL_093b8d21d41949cd81154d803a208f05"
       ],
       "layout": "IPY_MODEL_10036660dac14e8f8319e0a72baacb0c"
      }
     },
     "c395b68fac4d426ca235906e50f8b189": {
      "model_module": "@jupyter-widgets/base",
      "model_module_version": "1.2.0",
      "model_name": "LayoutModel",
      "state": {}
     },
     "c4db700a3bcf4526919d79950a6aaca0": {
      "model_module": "@jupyter-widgets/controls",
      "model_module_version": "1.5.0",
      "model_name": "VBoxModel",
      "state": {
       "_dom_classes": [
        "widget-interact"
       ],
       "children": [
        "IPY_MODEL_3adec4dfb18147ceae1a66cee3115b7f",
        "IPY_MODEL_0c41c31079be492ca3a3534e1b5af824",
        "IPY_MODEL_ee910ea51b2e4d6ea0482e3d4903b8d5",
        "IPY_MODEL_3eddba95b35c47d4b36619539b5e40d2",
        "IPY_MODEL_a20f947f0b8141ada31bd5f216e542fa"
       ],
       "layout": "IPY_MODEL_7f988eca06ba46728cc6002598edb06b"
      }
     },
     "c52a3a3daccc4c21a277a6989ce6f8c5": {
      "model_module": "@jupyter-widgets/controls",
      "model_module_version": "1.5.0",
      "model_name": "FloatSliderModel",
      "state": {
       "description": "gamma",
       "layout": "IPY_MODEL_6512c727cff048c1a0b99478a3003dfb",
       "max": 1,
       "min": 0.1,
       "step": 0.01,
       "style": "IPY_MODEL_6a1d6372fd3b4003ac943323ac89bd45",
       "value": 1
      }
     },
     "c6dc3fee125e415fab77fbef0a61042a": {
      "model_module": "@jupyter-widgets/controls",
      "model_module_version": "1.5.0",
      "model_name": "VBoxModel",
      "state": {
       "_dom_classes": [
        "widget-interact"
       ],
       "children": [
        "IPY_MODEL_60a875cfcf664945b65593ad31d01319",
        "IPY_MODEL_e926b7b15614402e854561aca12b9c3a"
       ],
       "layout": "IPY_MODEL_0ec44d1629f04dc29e27061a205b6141"
      }
     },
     "c75da70ed94a4fc8a83413b9e5340e71": {
      "model_module": "@jupyter-widgets/base",
      "model_module_version": "1.2.0",
      "model_name": "LayoutModel",
      "state": {}
     },
     "c7c5a148cabc41b3a80332b97d1ad6da": {
      "model_module": "@jupyter-widgets/base",
      "model_module_version": "1.2.0",
      "model_name": "LayoutModel",
      "state": {}
     },
     "c81df293020643b686dd127491a9de84": {
      "model_module": "@jupyter-widgets/output",
      "model_module_version": "1.0.0",
      "model_name": "OutputModel",
      "state": {
       "layout": "IPY_MODEL_b011adc8a2aa442ebd83c3b4aea0956d"
      }
     },
     "c85c76971f254988b5e5cc29548ae0cd": {
      "model_module": "@jupyter-widgets/base",
      "model_module_version": "1.2.0",
      "model_name": "LayoutModel",
      "state": {}
     },
     "cb091c66abe74b1593db743f29dcd1d0": {
      "model_module": "jupyter-matplotlib",
      "model_module_version": "^0.8.2",
      "model_name": "ToolbarModel",
      "state": {
       "layout": "IPY_MODEL_b11d793991474e6babdabae610a66b7c",
       "toolitems": [
        [
         "Home",
         "Reset original view",
         "home",
         "home"
        ],
        [
         "Back",
         "Back to  previous view",
         "arrow-left",
         "back"
        ],
        [
         "Forward",
         "Forward to next view",
         "arrow-right",
         "forward"
        ],
        [
         "Pan",
         "Pan axes with left mouse, zoom with right",
         "arrows",
         "pan"
        ],
        [
         "Zoom",
         "Zoom to rectangle",
         "square-o",
         "zoom"
        ],
        [
         "Download",
         "Download plot",
         "floppy-o",
         "save_figure"
        ]
       ]
      }
     },
     "ccb1db0afa074419a56723684d4aaaea": {
      "model_module": "@jupyter-widgets/base",
      "model_module_version": "1.2.0",
      "model_name": "LayoutModel",
      "state": {}
     },
     "ccbcac65561b4c29ae65044d7c290d69": {
      "model_module": "@jupyter-widgets/base",
      "model_module_version": "1.2.0",
      "model_name": "LayoutModel",
      "state": {}
     },
     "cd1e3890ef6f4bddb7d3d6b82e9228fb": {
      "model_module": "@jupyter-widgets/controls",
      "model_module_version": "1.5.0",
      "model_name": "FloatSliderModel",
      "state": {
       "description": "gamma",
       "layout": "IPY_MODEL_43f024db0c7241be82c30ba0ab3c6ae7",
       "max": 1,
       "min": 0.1,
       "step": 0.01,
       "style": "IPY_MODEL_d0d3b98de1184259aec9b481ee9ca745",
       "value": 0.25
      }
     },
     "ce42a4a32321429d8213c3cd6821e8bc": {
      "model_module": "@jupyter-widgets/base",
      "model_module_version": "1.2.0",
      "model_name": "LayoutModel",
      "state": {}
     },
     "cec14b1a7d094175a7ae3efa03644ff5": {
      "model_module": "@jupyter-widgets/base",
      "model_module_version": "1.2.0",
      "model_name": "LayoutModel",
      "state": {}
     },
     "cec6ef18bfff45d284abe24e1f15ede6": {
      "model_module": "@jupyter-widgets/base",
      "model_module_version": "1.2.0",
      "model_name": "LayoutModel",
      "state": {}
     },
     "cf284eadb08e4c5bb872eae56f15a2dd": {
      "model_module": "@jupyter-widgets/base",
      "model_module_version": "1.2.0",
      "model_name": "LayoutModel",
      "state": {}
     },
     "cf9cdb66b17149e68712740b2a35ec46": {
      "model_module": "@jupyter-widgets/base",
      "model_module_version": "1.2.0",
      "model_name": "LayoutModel",
      "state": {}
     },
     "cfb280e4a29c400197711dee357d36c4": {
      "model_module": "@jupyter-widgets/base",
      "model_module_version": "1.2.0",
      "model_name": "LayoutModel",
      "state": {}
     },
     "d00d7b1457b9484db82af90abd12b808": {
      "model_module": "@jupyter-widgets/base",
      "model_module_version": "1.2.0",
      "model_name": "LayoutModel",
      "state": {}
     },
     "d07011f910a247f58492f1e97bfe23b3": {
      "model_module": "@jupyter-widgets/base",
      "model_module_version": "1.2.0",
      "model_name": "LayoutModel",
      "state": {}
     },
     "d0d3b98de1184259aec9b481ee9ca745": {
      "model_module": "@jupyter-widgets/controls",
      "model_module_version": "1.5.0",
      "model_name": "SliderStyleModel",
      "state": {
       "description_width": ""
      }
     },
     "d2522847c96d46b5ad1c00e60e96e2f0": {
      "model_module": "@jupyter-widgets/base",
      "model_module_version": "1.2.0",
      "model_name": "LayoutModel",
      "state": {}
     },
     "d25338be34db452ebe187d7184dd92a7": {
      "model_module": "jupyter-matplotlib",
      "model_module_version": "^0.8.2",
      "model_name": "ToolbarModel",
      "state": {
       "layout": "IPY_MODEL_5ad51ced592945b49ac26ab29ad6ccd6",
       "toolitems": [
        [
         "Home",
         "Reset original view",
         "home",
         "home"
        ],
        [
         "Back",
         "Back to  previous view",
         "arrow-left",
         "back"
        ],
        [
         "Forward",
         "Forward to next view",
         "arrow-right",
         "forward"
        ],
        [
         "Pan",
         "Pan axes with left mouse, zoom with right",
         "arrows",
         "pan"
        ],
        [
         "Zoom",
         "Zoom to rectangle",
         "square-o",
         "zoom"
        ],
        [
         "Download",
         "Download plot",
         "floppy-o",
         "save_figure"
        ]
       ]
      }
     },
     "d2f8afaae93f4b0292b1d02fd25fc070": {
      "model_module": "@jupyter-widgets/base",
      "model_module_version": "1.2.0",
      "model_name": "LayoutModel",
      "state": {}
     },
     "d3d21e3af7d7489f88a2360f9640850c": {
      "model_module": "jupyter-matplotlib",
      "model_module_version": "^0.8.2",
      "model_name": "ToolbarModel",
      "state": {
       "layout": "IPY_MODEL_64ab6306cef04f4ca856311b850c6a39",
       "toolitems": [
        [
         "Home",
         "Reset original view",
         "home",
         "home"
        ],
        [
         "Back",
         "Back to  previous view",
         "arrow-left",
         "back"
        ],
        [
         "Forward",
         "Forward to next view",
         "arrow-right",
         "forward"
        ],
        [
         "Pan",
         "Pan axes with left mouse, zoom with right",
         "arrows",
         "pan"
        ],
        [
         "Zoom",
         "Zoom to rectangle",
         "square-o",
         "zoom"
        ],
        [
         "Download",
         "Download plot",
         "floppy-o",
         "save_figure"
        ]
       ]
      }
     },
     "d459055db4a5413c932047dd4b6bf8d3": {
      "model_module": "jupyter-matplotlib",
      "model_module_version": "^0.8.2",
      "model_name": "ToolbarModel",
      "state": {
       "layout": "IPY_MODEL_3a276d2d90c14659988b3fa4659d870e",
       "toolitems": [
        [
         "Home",
         "Reset original view",
         "home",
         "home"
        ],
        [
         "Back",
         "Back to  previous view",
         "arrow-left",
         "back"
        ],
        [
         "Forward",
         "Forward to next view",
         "arrow-right",
         "forward"
        ],
        [
         "Pan",
         "Pan axes with left mouse, zoom with right",
         "arrows",
         "pan"
        ],
        [
         "Zoom",
         "Zoom to rectangle",
         "square-o",
         "zoom"
        ],
        [
         "Download",
         "Download plot",
         "floppy-o",
         "save_figure"
        ]
       ]
      }
     },
     "d6003a53620842cfa47e323960d5ab47": {
      "model_module": "@jupyter-widgets/base",
      "model_module_version": "1.2.0",
      "model_name": "LayoutModel",
      "state": {}
     },
     "d66d835ff5c046e4a93719ad75d30513": {
      "model_module": "@jupyter-widgets/output",
      "model_module_version": "1.0.0",
      "model_name": "OutputModel",
      "state": {
       "layout": "IPY_MODEL_a387a7cdfa9642bda7d2ea556dd3e0dc"
      }
     },
     "d71758f5ca5f49e88e4a13d4aed02571": {
      "model_module": "jupyter-matplotlib",
      "model_module_version": "^0.8.2",
      "model_name": "ToolbarModel",
      "state": {
       "layout": "IPY_MODEL_ccbcac65561b4c29ae65044d7c290d69",
       "toolitems": [
        [
         "Home",
         "Reset original view",
         "home",
         "home"
        ],
        [
         "Back",
         "Back to  previous view",
         "arrow-left",
         "back"
        ],
        [
         "Forward",
         "Forward to next view",
         "arrow-right",
         "forward"
        ],
        [
         "Pan",
         "Pan axes with left mouse, zoom with right",
         "arrows",
         "pan"
        ],
        [
         "Zoom",
         "Zoom to rectangle",
         "square-o",
         "zoom"
        ],
        [
         "Download",
         "Download plot",
         "floppy-o",
         "save_figure"
        ]
       ]
      }
     },
     "d7d73b843b524eaab4f8cc4ddc5a5a18": {
      "model_module": "jupyter-matplotlib",
      "model_module_version": "^0.8.2",
      "model_name": "ToolbarModel",
      "state": {
       "layout": "IPY_MODEL_ad39b114b9aa41b4aa1259761b68f797",
       "toolitems": [
        [
         "Home",
         "Reset original view",
         "home",
         "home"
        ],
        [
         "Back",
         "Back to  previous view",
         "arrow-left",
         "back"
        ],
        [
         "Forward",
         "Forward to next view",
         "arrow-right",
         "forward"
        ],
        [
         "Pan",
         "Pan axes with left mouse, zoom with right",
         "arrows",
         "pan"
        ],
        [
         "Zoom",
         "Zoom to rectangle",
         "square-o",
         "zoom"
        ],
        [
         "Download",
         "Download plot",
         "floppy-o",
         "save_figure"
        ]
       ]
      }
     },
     "d7ee5ee8607d44b9affcc1d7abb1ae95": {
      "model_module": "@jupyter-widgets/controls",
      "model_module_version": "1.5.0",
      "model_name": "SliderStyleModel",
      "state": {
       "description_width": ""
      }
     },
     "d83120c05d53479589a0079e8a2e251c": {
      "model_module": "@jupyter-widgets/base",
      "model_module_version": "1.2.0",
      "model_name": "LayoutModel",
      "state": {}
     },
     "d895359f6b6d4b4c9696a8b51db3352b": {
      "model_module": "@jupyter-widgets/base",
      "model_module_version": "1.2.0",
      "model_name": "LayoutModel",
      "state": {}
     },
     "d896e0a04d4c43ab91261c132dc2014b": {
      "model_module": "@jupyter-widgets/controls",
      "model_module_version": "1.5.0",
      "model_name": "VBoxModel",
      "state": {
       "_dom_classes": [
        "widget-interact"
       ],
       "children": [
        "IPY_MODEL_9677e355ea39467799a885344d81e2fe",
        "IPY_MODEL_53e22dcba51c40a09c3556c72d1e4293"
       ],
       "layout": "IPY_MODEL_52a11731b9064ea6ac635564f8f4a6b2"
      }
     },
     "d915ca0f5ca842ffaeefe7ba0da8e5ff": {
      "model_module": "@jupyter-widgets/base",
      "model_module_version": "1.2.0",
      "model_name": "LayoutModel",
      "state": {}
     },
     "da33a62392a34ef28881845b57d1f63b": {
      "model_module": "@jupyter-widgets/controls",
      "model_module_version": "1.5.0",
      "model_name": "SliderStyleModel",
      "state": {
       "description_width": ""
      }
     },
     "daab0ed554ca4181bcf3d091a2f33541": {
      "model_module": "@jupyter-widgets/controls",
      "model_module_version": "1.5.0",
      "model_name": "FloatSliderModel",
      "state": {
       "description": "y0",
       "layout": "IPY_MODEL_117970e05656415cbd202964d0be5d2b",
       "max": 880,
       "step": 0.01,
       "style": "IPY_MODEL_e435939424cd4a58804bd3e276b0fd6c",
       "value": 431.37936074130306
      }
     },
     "dbe75fa605ea4395a793429f3552a5cb": {
      "model_module": "@jupyter-widgets/base",
      "model_module_version": "1.2.0",
      "model_name": "LayoutModel",
      "state": {}
     },
     "dc990dbd1a04425db79a309c073a7fce": {
      "model_module": "@jupyter-widgets/base",
      "model_module_version": "1.2.0",
      "model_name": "LayoutModel",
      "state": {}
     },
     "dd1df1fd765243a0b1204dc2908a0ab7": {
      "model_module": "@jupyter-widgets/base",
      "model_module_version": "1.2.0",
      "model_name": "LayoutModel",
      "state": {}
     },
     "dd66536b33984e479948860673144743": {
      "model_module": "@jupyter-widgets/base",
      "model_module_version": "1.2.0",
      "model_name": "LayoutModel",
      "state": {}
     },
     "e0019eb63f974478b68e2c1b6d5fe856": {
      "model_module": "@jupyter-widgets/base",
      "model_module_version": "1.2.0",
      "model_name": "LayoutModel",
      "state": {}
     },
     "e026b8c37d4f47fbb82d9345d0c48c0b": {
      "model_module": "@jupyter-widgets/controls",
      "model_module_version": "1.5.0",
      "model_name": "FloatSliderModel",
      "state": {
       "description": "gamma",
       "layout": "IPY_MODEL_a13f91d7ab12412ca332f3ad40bd3d3d",
       "max": 1,
       "min": 0.1,
       "step": 0.01,
       "style": "IPY_MODEL_1de8de2cdce54afdafad9271f72363d8",
       "value": 1
      }
     },
     "e02a1e07b6144cfa8833762fb03b45d9": {
      "model_module": "@jupyter-widgets/base",
      "model_module_version": "1.2.0",
      "model_name": "LayoutModel",
      "state": {}
     },
     "e032a11f55ca405f8246310d45b59fec": {
      "model_module": "@jupyter-widgets/controls",
      "model_module_version": "1.5.0",
      "model_name": "SliderStyleModel",
      "state": {
       "description_width": ""
      }
     },
     "e0f103bd87a642a2b4ee9b84905e70ce": {
      "model_module": "@jupyter-widgets/controls",
      "model_module_version": "1.5.0",
      "model_name": "FloatSliderModel",
      "state": {
       "description": "scale",
       "layout": "IPY_MODEL_b9fb94c78d114bb5958143f42f5a7b96",
       "max": 25,
       "min": 5,
       "step": 0.01,
       "style": "IPY_MODEL_7c8b12ae3ab0490fb57d3c5b7db24112",
       "value": 18.711655449170152
      }
     },
     "e19b817f57d740eda996896d74e40105": {
      "model_module": "@jupyter-widgets/base",
      "model_module_version": "1.2.0",
      "model_name": "LayoutModel",
      "state": {}
     },
     "e26f7e758bc24bfcb24ee0b5d6d6477b": {
      "model_module": "jupyter-matplotlib",
      "model_module_version": "^0.8.2",
      "model_name": "ToolbarModel",
      "state": {
       "layout": "IPY_MODEL_29e4767880e64a22888214748d708239",
       "toolitems": [
        [
         "Home",
         "Reset original view",
         "home",
         "home"
        ],
        [
         "Back",
         "Back to  previous view",
         "arrow-left",
         "back"
        ],
        [
         "Forward",
         "Forward to next view",
         "arrow-right",
         "forward"
        ],
        [
         "Pan",
         "Pan axes with left mouse, zoom with right",
         "arrows",
         "pan"
        ],
        [
         "Zoom",
         "Zoom to rectangle",
         "square-o",
         "zoom"
        ],
        [
         "Download",
         "Download plot",
         "floppy-o",
         "save_figure"
        ]
       ]
      }
     },
     "e2955af951714e3287209fefa6d4e8aa": {
      "model_module": "@jupyter-widgets/controls",
      "model_module_version": "1.5.0",
      "model_name": "FloatSliderModel",
      "state": {
       "description": "y0",
       "layout": "IPY_MODEL_4281608246b44dcd93a6f7565021fa43",
       "max": 880,
       "step": 0.01,
       "style": "IPY_MODEL_da33a62392a34ef28881845b57d1f63b",
       "value": 431.37936074130306
      }
     },
     "e2f0d45c27584aa6994231e928b65b74": {
      "model_module": "@jupyter-widgets/base",
      "model_module_version": "1.2.0",
      "model_name": "LayoutModel",
      "state": {}
     },
     "e34c2c59d2a74c6d9f80d8a461b2cfc5": {
      "model_module": "@jupyter-widgets/base",
      "model_module_version": "1.2.0",
      "model_name": "LayoutModel",
      "state": {}
     },
     "e38a6d96493448e1bb8c3db8234b19ff": {
      "model_module": "@jupyter-widgets/base",
      "model_module_version": "1.2.0",
      "model_name": "LayoutModel",
      "state": {}
     },
     "e3ab0a37dfc749ae868b18582ab76d52": {
      "model_module": "@jupyter-widgets/controls",
      "model_module_version": "1.5.0",
      "model_name": "SliderStyleModel",
      "state": {
       "description_width": ""
      }
     },
     "e435939424cd4a58804bd3e276b0fd6c": {
      "model_module": "@jupyter-widgets/controls",
      "model_module_version": "1.5.0",
      "model_name": "SliderStyleModel",
      "state": {
       "description_width": ""
      }
     },
     "e462b4b1c3bc49c183bf2fd531d2457c": {
      "model_module": "jupyter-matplotlib",
      "model_module_version": "^0.8.2",
      "model_name": "ToolbarModel",
      "state": {
       "layout": "IPY_MODEL_dc990dbd1a04425db79a309c073a7fce",
       "toolitems": [
        [
         "Home",
         "Reset original view",
         "home",
         "home"
        ],
        [
         "Back",
         "Back to  previous view",
         "arrow-left",
         "back"
        ],
        [
         "Forward",
         "Forward to next view",
         "arrow-right",
         "forward"
        ],
        [
         "Pan",
         "Pan axes with left mouse, zoom with right",
         "arrows",
         "pan"
        ],
        [
         "Zoom",
         "Zoom to rectangle",
         "square-o",
         "zoom"
        ],
        [
         "Download",
         "Download plot",
         "floppy-o",
         "save_figure"
        ]
       ]
      }
     },
     "e4874610d2c54ab79582f1787881ad59": {
      "model_module": "@jupyter-widgets/controls",
      "model_module_version": "1.5.0",
      "model_name": "SliderStyleModel",
      "state": {
       "description_width": ""
      }
     },
     "e5c4f2db89ba4117a107b827ab6b0911": {
      "model_module": "@jupyter-widgets/base",
      "model_module_version": "1.2.0",
      "model_name": "LayoutModel",
      "state": {}
     },
     "e6bc1f337b434e2aa9699b63514b9e6d": {
      "model_module": "@jupyter-widgets/output",
      "model_module_version": "1.0.0",
      "model_name": "OutputModel",
      "state": {
       "layout": "IPY_MODEL_ea2b7485b8b84849843c664ad33c50f0"
      }
     },
     "e747c0f91acf4df69d58e93fb2b96606": {
      "model_module": "@jupyter-widgets/controls",
      "model_module_version": "1.5.0",
      "model_name": "VBoxModel",
      "state": {
       "_dom_classes": [
        "widget-interact"
       ],
       "children": [
        "IPY_MODEL_135480f465bd4c1b8384694830e96118",
        "IPY_MODEL_0ab0ae72d82b433988d13ee9655db6e4"
       ],
       "layout": "IPY_MODEL_d83120c05d53479589a0079e8a2e251c"
      }
     },
     "e8fb5bbd116d4d39836f8c2c23115cdb": {
      "model_module": "@jupyter-widgets/base",
      "model_module_version": "1.2.0",
      "model_name": "LayoutModel",
      "state": {}
     },
     "e926b7b15614402e854561aca12b9c3a": {
      "model_module": "@jupyter-widgets/output",
      "model_module_version": "1.0.0",
      "model_name": "OutputModel",
      "state": {
       "layout": "IPY_MODEL_1cdaa69ce8844681ba3c37dd47cf828d"
      }
     },
     "e95d99f873b24716b3a4e1b5e4852e34": {
      "model_module": "jupyter-matplotlib",
      "model_module_version": "^0.8.2",
      "model_name": "ToolbarModel",
      "state": {
       "layout": "IPY_MODEL_38bdac1d03fa4411abcd9770194e2403",
       "toolitems": [
        [
         "Home",
         "Reset original view",
         "home",
         "home"
        ],
        [
         "Back",
         "Back to  previous view",
         "arrow-left",
         "back"
        ],
        [
         "Forward",
         "Forward to next view",
         "arrow-right",
         "forward"
        ],
        [
         "Pan",
         "Pan axes with left mouse, zoom with right",
         "arrows",
         "pan"
        ],
        [
         "Zoom",
         "Zoom to rectangle",
         "square-o",
         "zoom"
        ],
        [
         "Download",
         "Download plot",
         "floppy-o",
         "save_figure"
        ]
       ]
      }
     },
     "e98abfe9da7846539f9fc2136627b089": {
      "model_module": "jupyter-matplotlib",
      "model_module_version": "^0.8.2",
      "model_name": "ToolbarModel",
      "state": {
       "layout": "IPY_MODEL_f32f9ef6d7b24de8bafe160adbe8692c",
       "toolitems": [
        [
         "Home",
         "Reset original view",
         "home",
         "home"
        ],
        [
         "Back",
         "Back to  previous view",
         "arrow-left",
         "back"
        ],
        [
         "Forward",
         "Forward to next view",
         "arrow-right",
         "forward"
        ],
        [
         "Pan",
         "Pan axes with left mouse, zoom with right",
         "arrows",
         "pan"
        ],
        [
         "Zoom",
         "Zoom to rectangle",
         "square-o",
         "zoom"
        ],
        [
         "Download",
         "Download plot",
         "floppy-o",
         "save_figure"
        ]
       ]
      }
     },
     "ea2245a172b149ff82b592dd5f4be91b": {
      "model_module": "@jupyter-widgets/controls",
      "model_module_version": "1.5.0",
      "model_name": "SliderStyleModel",
      "state": {
       "description_width": ""
      }
     },
     "ea2b7485b8b84849843c664ad33c50f0": {
      "model_module": "@jupyter-widgets/base",
      "model_module_version": "1.2.0",
      "model_name": "LayoutModel",
      "state": {}
     },
     "ea8d500cb0f54eef98708a85db91f2ce": {
      "model_module": "@jupyter-widgets/controls",
      "model_module_version": "1.5.0",
      "model_name": "VBoxModel",
      "state": {
       "_dom_classes": [
        "widget-interact"
       ],
       "children": [
        "IPY_MODEL_8de7100f327548aab0615624d00bd550",
        "IPY_MODEL_8875504b7f654919bb6872d4b77bebe7",
        "IPY_MODEL_5f692f9d227e437fb1e80c8e2ce3aacf",
        "IPY_MODEL_306f3eb3560b4ff8ac4938ea38e4a9ed",
        "IPY_MODEL_e6bc1f337b434e2aa9699b63514b9e6d"
       ],
       "layout": "IPY_MODEL_b11a7520696344589ad3e4364e8b918a"
      }
     },
     "eb5e6e8c5f3447338cbf5f1f5d94303e": {
      "model_module": "@jupyter-widgets/controls",
      "model_module_version": "1.5.0",
      "model_name": "FloatSliderModel",
      "state": {
       "description": "x0",
       "layout": "IPY_MODEL_593a4a6197114196a6f05a786f4913d8",
       "max": 1040,
       "step": 0.01,
       "style": "IPY_MODEL_8654cb0cb4584c58afdd912297805027",
       "value": 528.380291398653
      }
     },
     "eb7fc781e4704745926e3f8871033fa7": {
      "model_module": "@jupyter-widgets/base",
      "model_module_version": "1.2.0",
      "model_name": "LayoutModel",
      "state": {}
     },
     "ebc29abebadc472cbe8b557bfdfa28e2": {
      "model_module": "@jupyter-widgets/controls",
      "model_module_version": "1.5.0",
      "model_name": "VBoxModel",
      "state": {
       "_dom_classes": [
        "widget-interact"
       ],
       "children": [
        "IPY_MODEL_0b792fc8dc654d4490c8f05c3c50f9ba",
        "IPY_MODEL_1f14898c82e3491baa579a89a8cd8bd7"
       ],
       "layout": "IPY_MODEL_5f10324e4b8b460aad33ed4ff9f80b34"
      }
     },
     "ec71ddc534f3476faff0ba707efeccd3": {
      "model_module": "@jupyter-widgets/controls",
      "model_module_version": "1.5.0",
      "model_name": "FloatSliderModel",
      "state": {
       "description": "y0",
       "layout": "IPY_MODEL_382ccc172aa44a2db8193b2ecd809073",
       "max": 880,
       "step": 0.01,
       "style": "IPY_MODEL_242aff7461b9422e88abe6a99ab493c3",
       "value": 431.37936074130306
      }
     },
     "ecda862014004df1879b6c7cd68411e2": {
      "model_module": "@jupyter-widgets/base",
      "model_module_version": "1.2.0",
      "model_name": "LayoutModel",
      "state": {}
     },
     "ed57e0228cc04181a794a082740d151e": {
      "model_module": "jupyter-matplotlib",
      "model_module_version": "^0.8.2",
      "model_name": "ToolbarModel",
      "state": {
       "layout": "IPY_MODEL_2bca3053ab334b33b141aa4d3a79adf4",
       "toolitems": [
        [
         "Home",
         "Reset original view",
         "home",
         "home"
        ],
        [
         "Back",
         "Back to  previous view",
         "arrow-left",
         "back"
        ],
        [
         "Forward",
         "Forward to next view",
         "arrow-right",
         "forward"
        ],
        [
         "Pan",
         "Pan axes with left mouse, zoom with right",
         "arrows",
         "pan"
        ],
        [
         "Zoom",
         "Zoom to rectangle",
         "square-o",
         "zoom"
        ],
        [
         "Download",
         "Download plot",
         "floppy-o",
         "save_figure"
        ]
       ]
      }
     },
     "ee27c42749b644cf934734c5fe897d80": {
      "model_module": "@jupyter-widgets/base",
      "model_module_version": "1.2.0",
      "model_name": "LayoutModel",
      "state": {}
     },
     "ee910ea51b2e4d6ea0482e3d4903b8d5": {
      "model_module": "@jupyter-widgets/controls",
      "model_module_version": "1.5.0",
      "model_name": "FloatSliderModel",
      "state": {
       "description": "x0",
       "layout": "IPY_MODEL_4abc283643ad4dfba4a7adb35d968a35",
       "max": 1040,
       "step": 0.01,
       "style": "IPY_MODEL_423807f4a8f240959b24d5c4d5d16a1e",
       "value": 528.380291398653
      }
     },
     "ef0f0b6582d44c3a82beb8537cb0bdd4": {
      "model_module": "@jupyter-widgets/base",
      "model_module_version": "1.2.0",
      "model_name": "LayoutModel",
      "state": {}
     },
     "ef43ff6f2a9344a78bc2d485d83caa8e": {
      "model_module": "@jupyter-widgets/controls",
      "model_module_version": "1.5.0",
      "model_name": "VBoxModel",
      "state": {
       "_dom_classes": [
        "widget-interact"
       ],
       "children": [
        "IPY_MODEL_cd1e3890ef6f4bddb7d3d6b82e9228fb",
        "IPY_MODEL_bebe8ee1a5e2485fb8e3ee763cdbeddb"
       ],
       "layout": "IPY_MODEL_c85c76971f254988b5e5cc29548ae0cd"
      }
     },
     "f087e3670c2e47f186a32a3dd1a7d041": {
      "model_module": "@jupyter-widgets/controls",
      "model_module_version": "1.5.0",
      "model_name": "SliderStyleModel",
      "state": {
       "description_width": ""
      }
     },
     "f30a819219b545f2a2080fb19743521c": {
      "model_module": "jupyter-matplotlib",
      "model_module_version": "^0.8.2",
      "model_name": "ToolbarModel",
      "state": {
       "layout": "IPY_MODEL_9f5a8307011a41a2a6f8442a74e98321",
       "toolitems": [
        [
         "Home",
         "Reset original view",
         "home",
         "home"
        ],
        [
         "Back",
         "Back to  previous view",
         "arrow-left",
         "back"
        ],
        [
         "Forward",
         "Forward to next view",
         "arrow-right",
         "forward"
        ],
        [
         "Pan",
         "Pan axes with left mouse, zoom with right",
         "arrows",
         "pan"
        ],
        [
         "Zoom",
         "Zoom to rectangle",
         "square-o",
         "zoom"
        ],
        [
         "Download",
         "Download plot",
         "floppy-o",
         "save_figure"
        ]
       ]
      }
     },
     "f32f9ef6d7b24de8bafe160adbe8692c": {
      "model_module": "@jupyter-widgets/base",
      "model_module_version": "1.2.0",
      "model_name": "LayoutModel",
      "state": {}
     },
     "f493c86190ab439792799db1d5b7bd6f": {
      "model_module": "@jupyter-widgets/controls",
      "model_module_version": "1.5.0",
      "model_name": "SliderStyleModel",
      "state": {
       "description_width": ""
      }
     },
     "f52e89d0c5294534aee6278685669de4": {
      "model_module": "@jupyter-widgets/base",
      "model_module_version": "1.2.0",
      "model_name": "LayoutModel",
      "state": {}
     },
     "f57dfd630f0244a6b0c54eefab306395": {
      "model_module": "@jupyter-widgets/base",
      "model_module_version": "1.2.0",
      "model_name": "LayoutModel",
      "state": {}
     },
     "f6eb88da958a44f1a5723ab054c96f87": {
      "model_module": "@jupyter-widgets/base",
      "model_module_version": "1.2.0",
      "model_name": "LayoutModel",
      "state": {}
     },
     "f776e08e425e4fe291046bbfdeab10e6": {
      "model_module": "@jupyter-widgets/controls",
      "model_module_version": "1.5.0",
      "model_name": "SliderStyleModel",
      "state": {
       "description_width": ""
      }
     },
     "f831ab4e4e164a108d170e14352b6162": {
      "model_module": "@jupyter-widgets/base",
      "model_module_version": "1.2.0",
      "model_name": "LayoutModel",
      "state": {}
     },
     "f861d899412b482bb92e01286c648a71": {
      "model_module": "@jupyter-widgets/base",
      "model_module_version": "1.2.0",
      "model_name": "LayoutModel",
      "state": {}
     },
     "f8a580a7964745ed95b23fbb3a3d230f": {
      "model_module": "@jupyter-widgets/base",
      "model_module_version": "1.2.0",
      "model_name": "LayoutModel",
      "state": {}
     },
     "f94af68a543645a4bd10b1a6447822fc": {
      "model_module": "@jupyter-widgets/base",
      "model_module_version": "1.2.0",
      "model_name": "LayoutModel",
      "state": {}
     },
     "fc2a52ca1dd74e159904d6a6b701e595": {
      "model_module": "jupyter-matplotlib",
      "model_module_version": "^0.8.2",
      "model_name": "ToolbarModel",
      "state": {
       "layout": "IPY_MODEL_dbe75fa605ea4395a793429f3552a5cb",
       "toolitems": [
        [
         "Home",
         "Reset original view",
         "home",
         "home"
        ],
        [
         "Back",
         "Back to  previous view",
         "arrow-left",
         "back"
        ],
        [
         "Forward",
         "Forward to next view",
         "arrow-right",
         "forward"
        ],
        [
         "Pan",
         "Pan axes with left mouse, zoom with right",
         "arrows",
         "pan"
        ],
        [
         "Zoom",
         "Zoom to rectangle",
         "square-o",
         "zoom"
        ],
        [
         "Download",
         "Download plot",
         "floppy-o",
         "save_figure"
        ]
       ]
      }
     },
     "fcabe78fff874ba9a4011ff67454858b": {
      "model_module": "@jupyter-widgets/base",
      "model_module_version": "1.2.0",
      "model_name": "LayoutModel",
      "state": {}
     },
     "fcce1a10cd4f424b8f08767f3752ca91": {
      "model_module": "@jupyter-widgets/base",
      "model_module_version": "1.2.0",
      "model_name": "LayoutModel",
      "state": {}
     },
     "fd3e468175e94b109d5f2d04078c1f45": {
      "model_module": "jupyter-matplotlib",
      "model_module_version": "^0.8.2",
      "model_name": "ToolbarModel",
      "state": {
       "layout": "IPY_MODEL_8cb1473372f847bfa224e84f5a948e4e",
       "toolitems": [
        [
         "Home",
         "Reset original view",
         "home",
         "home"
        ],
        [
         "Back",
         "Back to  previous view",
         "arrow-left",
         "back"
        ],
        [
         "Forward",
         "Forward to next view",
         "arrow-right",
         "forward"
        ],
        [
         "Pan",
         "Pan axes with left mouse, zoom with right",
         "arrows",
         "pan"
        ],
        [
         "Zoom",
         "Zoom to rectangle",
         "square-o",
         "zoom"
        ],
        [
         "Download",
         "Download plot",
         "floppy-o",
         "save_figure"
        ]
       ]
      }
     },
     "fe367345c81c492bb26f320687bb581f": {
      "model_module": "@jupyter-widgets/base",
      "model_module_version": "1.2.0",
      "model_name": "LayoutModel",
      "state": {}
     },
     "fe96d829e5b54b04b0fc3ee337b2ab38": {
      "model_module": "@jupyter-widgets/base",
      "model_module_version": "1.2.0",
      "model_name": "LayoutModel",
      "state": {}
     },
     "fefdd4756e724fb7ad28bbf0b878044e": {
      "model_module": "@jupyter-widgets/controls",
      "model_module_version": "1.5.0",
      "model_name": "FloatSliderModel",
      "state": {
       "description": "alpha",
       "layout": "IPY_MODEL_89b497ae99e14b91aeec02df82f16082",
       "max": 360,
       "step": 0.01,
       "style": "IPY_MODEL_a309f9728b4047cdac1dc7512f250beb"
      }
     },
     "ff20abc20ac24410a49b3fad1402236c": {
      "model_module": "@jupyter-widgets/base",
      "model_module_version": "1.2.0",
      "model_name": "LayoutModel",
      "state": {}
     },
     "ffa209c34f5c4372b76bdf351ea2bf44": {
      "model_module": "@jupyter-widgets/base",
      "model_module_version": "1.2.0",
      "model_name": "LayoutModel",
      "state": {}
     }
    },
    "version_major": 2,
    "version_minor": 0
   }
  }
 },
 "nbformat": 4,
 "nbformat_minor": 2
}
